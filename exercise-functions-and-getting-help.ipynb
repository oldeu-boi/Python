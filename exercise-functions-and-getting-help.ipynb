{
 "cells": [
  {
   "cell_type": "markdown",
   "id": "db80b0d5",
   "metadata": {
    "papermill": {
     "duration": 0.006058,
     "end_time": "2022-09-22T10:49:25.539803",
     "exception": false,
     "start_time": "2022-09-22T10:49:25.533745",
     "status": "completed"
    },
    "tags": []
   },
   "source": [
    "**This notebook is an exercise in the [Python](https://www.kaggle.com/learn/python) course.  You can reference the tutorial at [this link](https://www.kaggle.com/colinmorris/functions-and-getting-help).**\n",
    "\n",
    "---\n"
   ]
  },
  {
   "cell_type": "markdown",
   "id": "26c5b89d",
   "metadata": {
    "papermill": {
     "duration": 0.004354,
     "end_time": "2022-09-22T10:49:25.549386",
     "exception": false,
     "start_time": "2022-09-22T10:49:25.545032",
     "status": "completed"
    },
    "tags": []
   },
   "source": [
    "Functions are powerful. Try writing some yourself.\n",
    "\n",
    "As before, don't forget to run the setup code below before jumping into question 1."
   ]
  },
  {
   "cell_type": "code",
   "execution_count": 1,
   "id": "e654d630",
   "metadata": {
    "_kg_hide-input": true,
    "_kg_hide-output": true,
    "execution": {
     "iopub.execute_input": "2022-09-22T10:49:25.561190Z",
     "iopub.status.busy": "2022-09-22T10:49:25.560549Z",
     "iopub.status.idle": "2022-09-22T10:49:25.618786Z",
     "shell.execute_reply": "2022-09-22T10:49:25.617564Z"
    },
    "papermill": {
     "duration": 0.067598,
     "end_time": "2022-09-22T10:49:25.621700",
     "exception": false,
     "start_time": "2022-09-22T10:49:25.554102",
     "status": "completed"
    },
    "tags": []
   },
   "outputs": [
    {
     "name": "stdout",
     "output_type": "stream",
     "text": [
      "Setup complete.\n"
     ]
    }
   ],
   "source": [
    "# SETUP. You don't need to worry for now about what this code does or how it works.\n",
    "from learntools.core import binder; binder.bind(globals())\n",
    "from learntools.python.ex2 import *\n",
    "print('Setup complete.')"
   ]
  },
  {
   "cell_type": "markdown",
   "id": "5d6f73d2",
   "metadata": {
    "papermill": {
     "duration": 0.004547,
     "end_time": "2022-09-22T10:49:25.631210",
     "exception": false,
     "start_time": "2022-09-22T10:49:25.626663",
     "status": "completed"
    },
    "tags": []
   },
   "source": [
    "# 1.\n",
    "\n",
    "Complete the body of the following function according to its docstring.\n",
    "\n",
    "HINT: Python has a built-in function `round`."
   ]
  },
  {
   "cell_type": "code",
   "execution_count": 2,
   "id": "25ff8005",
   "metadata": {
    "execution": {
     "iopub.execute_input": "2022-09-22T10:49:25.643096Z",
     "iopub.status.busy": "2022-09-22T10:49:25.641976Z",
     "iopub.status.idle": "2022-09-22T10:49:25.653636Z",
     "shell.execute_reply": "2022-09-22T10:49:25.652439Z"
    },
    "papermill": {
     "duration": 0.01989,
     "end_time": "2022-09-22T10:49:25.655810",
     "exception": false,
     "start_time": "2022-09-22T10:49:25.635920",
     "status": "completed"
    },
    "tags": []
   },
   "outputs": [
    {
     "data": {
      "application/javascript": [
       "parent.postMessage({\"jupyterEvent\": \"custom.exercise_interaction\", \"data\": {\"outcomeType\": 1, \"valueTowardsCompletion\": 0.16666666666666666, \"interactionType\": 1, \"questionType\": 2, \"questionId\": \"1_RoundFunctionProblem\", \"learnToolsVersion\": \"0.3.4\", \"failureMessage\": \"\", \"exceptionClass\": \"\", \"trace\": \"\"}}, \"*\")"
      ],
      "text/plain": [
       "<IPython.core.display.Javascript object>"
      ]
     },
     "metadata": {},
     "output_type": "display_data"
    },
    {
     "data": {
      "text/markdown": [
       "<span style=\"color:#33cc33\">Correct</span>"
      ],
      "text/plain": [
       "Correct"
      ]
     },
     "metadata": {},
     "output_type": "display_data"
    }
   ],
   "source": [
    "def round_to_two_places(num):\n",
    "    \"\"\"Return the given number rounded to two decimal places. \n",
    "    \n",
    "    >>> round_to_two_places(3.14159)\n",
    "    3.14\n",
    "    \"\"\"\n",
    "    x = round(num,2)\n",
    "    return x\n",
    "\n",
    "# Check your answer\n",
    "q1.check()"
   ]
  },
  {
   "cell_type": "code",
   "execution_count": 3,
   "id": "37cb2cfe",
   "metadata": {
    "execution": {
     "iopub.execute_input": "2022-09-22T10:49:25.668219Z",
     "iopub.status.busy": "2022-09-22T10:49:25.667779Z",
     "iopub.status.idle": "2022-09-22T10:49:25.672278Z",
     "shell.execute_reply": "2022-09-22T10:49:25.671144Z"
    },
    "papermill": {
     "duration": 0.013573,
     "end_time": "2022-09-22T10:49:25.674530",
     "exception": false,
     "start_time": "2022-09-22T10:49:25.660957",
     "status": "completed"
    },
    "tags": []
   },
   "outputs": [],
   "source": [
    "# Uncomment the following for a hint\n",
    "#q1.hint()\n",
    "# Or uncomment the following to peek at the solution\n",
    "#q1.solution()"
   ]
  },
  {
   "cell_type": "markdown",
   "id": "c965aa1a",
   "metadata": {
    "papermill": {
     "duration": 0.00491,
     "end_time": "2022-09-22T10:49:25.684627",
     "exception": false,
     "start_time": "2022-09-22T10:49:25.679717",
     "status": "completed"
    },
    "tags": []
   },
   "source": [
    "# 2.\n",
    "The help for `round` says that `ndigits` (the second argument) may be negative.\n",
    "What do you think will happen when it is? Try some examples in the following cell."
   ]
  },
  {
   "cell_type": "code",
   "execution_count": 4,
   "id": "1970b2b0",
   "metadata": {
    "execution": {
     "iopub.execute_input": "2022-09-22T10:49:25.696681Z",
     "iopub.status.busy": "2022-09-22T10:49:25.696241Z",
     "iopub.status.idle": "2022-09-22T10:49:25.703890Z",
     "shell.execute_reply": "2022-09-22T10:49:25.702640Z"
    },
    "papermill": {
     "duration": 0.016515,
     "end_time": "2022-09-22T10:49:25.706257",
     "exception": false,
     "start_time": "2022-09-22T10:49:25.689742",
     "status": "completed"
    },
    "tags": []
   },
   "outputs": [
    {
     "data": {
      "text/plain": [
       "100"
      ]
     },
     "execution_count": 4,
     "metadata": {},
     "output_type": "execute_result"
    }
   ],
   "source": [
    "round(140,-2)"
   ]
  },
  {
   "cell_type": "markdown",
   "id": "877423ab",
   "metadata": {
    "papermill": {
     "duration": 0.005488,
     "end_time": "2022-09-22T10:49:25.717250",
     "exception": false,
     "start_time": "2022-09-22T10:49:25.711762",
     "status": "completed"
    },
    "tags": []
   },
   "source": [
    "Can you think of a case where this would be useful?  Once you're ready, run the code cell below to see the answer and to receive credit for completing the problem."
   ]
  },
  {
   "cell_type": "code",
   "execution_count": 5,
   "id": "af2b5636",
   "metadata": {
    "execution": {
     "iopub.execute_input": "2022-09-22T10:49:25.729340Z",
     "iopub.status.busy": "2022-09-22T10:49:25.728935Z",
     "iopub.status.idle": "2022-09-22T10:49:25.738192Z",
     "shell.execute_reply": "2022-09-22T10:49:25.736922Z"
    },
    "papermill": {
     "duration": 0.018039,
     "end_time": "2022-09-22T10:49:25.740553",
     "exception": false,
     "start_time": "2022-09-22T10:49:25.722514",
     "status": "completed"
    },
    "tags": []
   },
   "outputs": [
    {
     "data": {
      "application/javascript": [
       "parent.postMessage({\"jupyterEvent\": \"custom.exercise_interaction\", \"data\": {\"interactionType\": 3, \"questionType\": 4, \"questionId\": \"2_RoundNdigitsProblem\", \"learnToolsVersion\": \"0.3.4\", \"valueTowardsCompletion\": 0.0, \"failureMessage\": \"\", \"exceptionClass\": \"\", \"trace\": \"\", \"outcomeType\": 4}}, \"*\")"
      ],
      "text/plain": [
       "<IPython.core.display.Javascript object>"
      ]
     },
     "metadata": {},
     "output_type": "display_data"
    },
    {
     "data": {
      "text/markdown": [
       "<span style=\"color:#33cc99\">Solution:</span> As you've seen, `ndigits=-1` rounds to the nearest 10, `ndigits=-2` rounds to the nearest 100 and so on. Where might this be useful? Suppose we're dealing with large numbers:\n",
       "\n",
       "> The area of Finland is 338,424 km²  \n",
       "> The area of Greenland is 2,166,086 km²\n",
       "\n",
       "We probably don't care whether it's really 338,424, or 338,425, or 338,177. All those digits of accuracy are just distracting. We can chop them off by calling `round()` with `ndigits=-3`:\n",
       "\n",
       "> The area of Finland is 338,000 km²  \n",
       "> The area of Greenland is 2,166,000 km²\n",
       "\n",
       "(We'll talk about how we would get the commas later when we talk about string formatting :))\n"
      ],
      "text/plain": [
       "Solution: As you've seen, `ndigits=-1` rounds to the nearest 10, `ndigits=-2` rounds to the nearest 100 and so on. Where might this be useful? Suppose we're dealing with large numbers:\n",
       "\n",
       "> The area of Finland is 338,424 km²  \n",
       "> The area of Greenland is 2,166,086 km²\n",
       "\n",
       "We probably don't care whether it's really 338,424, or 338,425, or 338,177. All those digits of accuracy are just distracting. We can chop them off by calling `round()` with `ndigits=-3`:\n",
       "\n",
       "> The area of Finland is 338,000 km²  \n",
       "> The area of Greenland is 2,166,000 km²\n",
       "\n",
       "(We'll talk about how we would get the commas later when we talk about string formatting :))"
      ]
     },
     "metadata": {},
     "output_type": "display_data"
    }
   ],
   "source": [
    "# Check your answer (Run this code cell to receive credit!)\n",
    "q2.solution()"
   ]
  },
  {
   "cell_type": "markdown",
   "id": "5f1e1a44",
   "metadata": {
    "papermill": {
     "duration": 0.005253,
     "end_time": "2022-09-22T10:49:25.751263",
     "exception": false,
     "start_time": "2022-09-22T10:49:25.746010",
     "status": "completed"
    },
    "tags": []
   },
   "source": [
    "# 3.\n",
    "\n",
    "In the previous exercise, the candy-sharing friends Alice, Bob and Carol tried to split candies evenly. For the sake of their friendship, any candies left over would be smashed. For example, if they collectively bring home 91 candies, they'll take 30 each and smash 1.\n",
    "\n",
    "Below is a simple function that will calculate the number of candies to smash for *any* number of total candies.\n",
    "\n",
    "Modify it so that it optionally takes a second argument representing the number of friends the candies are being split between. If no second argument is provided, it should assume 3 friends, as before.\n",
    "\n",
    "Update the docstring to reflect this new behaviour."
   ]
  },
  {
   "cell_type": "code",
   "execution_count": 6,
   "id": "28581138",
   "metadata": {
    "execution": {
     "iopub.execute_input": "2022-09-22T10:49:25.764051Z",
     "iopub.status.busy": "2022-09-22T10:49:25.763595Z",
     "iopub.status.idle": "2022-09-22T10:49:25.773693Z",
     "shell.execute_reply": "2022-09-22T10:49:25.772552Z"
    },
    "papermill": {
     "duration": 0.019035,
     "end_time": "2022-09-22T10:49:25.775979",
     "exception": false,
     "start_time": "2022-09-22T10:49:25.756944",
     "status": "completed"
    },
    "tags": []
   },
   "outputs": [
    {
     "data": {
      "application/javascript": [
       "parent.postMessage({\"jupyterEvent\": \"custom.exercise_interaction\", \"data\": {\"outcomeType\": 1, \"valueTowardsCompletion\": 0.16666666666666666, \"interactionType\": 1, \"questionType\": 2, \"questionId\": \"3_CandySmashingFunctionProblem\", \"learnToolsVersion\": \"0.3.4\", \"failureMessage\": \"\", \"exceptionClass\": \"\", \"trace\": \"\"}}, \"*\")"
      ],
      "text/plain": [
       "<IPython.core.display.Javascript object>"
      ]
     },
     "metadata": {},
     "output_type": "display_data"
    },
    {
     "data": {
      "text/markdown": [
       "<span style=\"color:#33cc33\">Correct</span>"
      ],
      "text/plain": [
       "Correct"
      ]
     },
     "metadata": {},
     "output_type": "display_data"
    }
   ],
   "source": [
    "def to_smash(total_candies,total_num = 3):\n",
    "    \"\"\"Return the number of leftover candies that must be smashed after distributing\n",
    "    the given number of candies evenly between 3 friends.\n",
    "    \n",
    "    >>> to_smash(91)\n",
    "    1\n",
    "    \"\"\"\n",
    "    return total_candies % total_num\n",
    "\n",
    "# Check your answer\n",
    "q3.check()"
   ]
  },
  {
   "cell_type": "code",
   "execution_count": 7,
   "id": "50459dc6",
   "metadata": {
    "execution": {
     "iopub.execute_input": "2022-09-22T10:49:25.789703Z",
     "iopub.status.busy": "2022-09-22T10:49:25.788770Z",
     "iopub.status.idle": "2022-09-22T10:49:25.793894Z",
     "shell.execute_reply": "2022-09-22T10:49:25.792902Z"
    },
    "papermill": {
     "duration": 0.014637,
     "end_time": "2022-09-22T10:49:25.796324",
     "exception": false,
     "start_time": "2022-09-22T10:49:25.781687",
     "status": "completed"
    },
    "tags": []
   },
   "outputs": [],
   "source": [
    "#q3.hint()"
   ]
  },
  {
   "cell_type": "code",
   "execution_count": 8,
   "id": "a6661415",
   "metadata": {
    "execution": {
     "iopub.execute_input": "2022-09-22T10:49:25.810706Z",
     "iopub.status.busy": "2022-09-22T10:49:25.810314Z",
     "iopub.status.idle": "2022-09-22T10:49:25.814953Z",
     "shell.execute_reply": "2022-09-22T10:49:25.813887Z"
    },
    "papermill": {
     "duration": 0.015077,
     "end_time": "2022-09-22T10:49:25.817271",
     "exception": false,
     "start_time": "2022-09-22T10:49:25.802194",
     "status": "completed"
    },
    "tags": []
   },
   "outputs": [],
   "source": [
    "#q3.solution()"
   ]
  },
  {
   "cell_type": "markdown",
   "id": "08d54dbe",
   "metadata": {
    "papermill": {
     "duration": 0.005316,
     "end_time": "2022-09-22T10:49:25.828281",
     "exception": false,
     "start_time": "2022-09-22T10:49:25.822965",
     "status": "completed"
    },
    "tags": []
   },
   "source": [
    "# 4. (Optional)\n",
    "\n",
    "It may not be fun, but reading and understanding error messages will be an important part of your Python career.\n",
    "\n",
    "Each code cell below contains some commented buggy code. For each cell...\n",
    "\n",
    "1. Read the code and predict what you think will happen when it's run.\n",
    "2. Then uncomment the code and run it to see what happens. (**Tip**: In the kernel editor, you can highlight several lines and press `ctrl`+`/` to toggle commenting.)\n",
    "3. Fix the code (so that it accomplishes its intended purpose without throwing an exception)\n",
    "\n",
    "<!-- TODO: should this be autochecked? Delta is probably pretty small. -->"
   ]
  },
  {
   "cell_type": "code",
   "execution_count": 9,
   "id": "e6244f68",
   "metadata": {
    "execution": {
     "iopub.execute_input": "2022-09-22T10:49:25.841296Z",
     "iopub.status.busy": "2022-09-22T10:49:25.840918Z",
     "iopub.status.idle": "2022-09-22T10:49:25.847518Z",
     "shell.execute_reply": "2022-09-22T10:49:25.846417Z"
    },
    "papermill": {
     "duration": 0.015957,
     "end_time": "2022-09-22T10:49:25.849907",
     "exception": false,
     "start_time": "2022-09-22T10:49:25.833950",
     "status": "completed"
    },
    "tags": []
   },
   "outputs": [
    {
     "data": {
      "text/plain": [
       "10.0"
      ]
     },
     "execution_count": 9,
     "metadata": {},
     "output_type": "execute_result"
    }
   ],
   "source": [
    "round(9.9999,2)"
   ]
  },
  {
   "cell_type": "code",
   "execution_count": 10,
   "id": "b50a7bfe",
   "metadata": {
    "execution": {
     "iopub.execute_input": "2022-09-22T10:49:25.863483Z",
     "iopub.status.busy": "2022-09-22T10:49:25.863065Z",
     "iopub.status.idle": "2022-09-22T10:49:25.869155Z",
     "shell.execute_reply": "2022-09-22T10:49:25.868044Z"
    },
    "papermill": {
     "duration": 0.016293,
     "end_time": "2022-09-22T10:49:25.872030",
     "exception": false,
     "start_time": "2022-09-22T10:49:25.855737",
     "status": "completed"
    },
    "tags": []
   },
   "outputs": [
    {
     "name": "stdout",
     "output_type": "stream",
     "text": [
      "5\n"
     ]
    }
   ],
   "source": [
    "x = -10\n",
    "y = 5\n",
    "# Which of the two variables above has the smallest absolute value?\n",
    "smallest_abs = min(abs(x),abs(y))\n",
    "print(smallest_abs)"
   ]
  },
  {
   "cell_type": "code",
   "execution_count": 11,
   "id": "c3a5f618",
   "metadata": {
    "execution": {
     "iopub.execute_input": "2022-09-22T10:49:25.885438Z",
     "iopub.status.busy": "2022-09-22T10:49:25.885053Z",
     "iopub.status.idle": "2022-09-22T10:49:25.892246Z",
     "shell.execute_reply": "2022-09-22T10:49:25.889728Z"
    },
    "papermill": {
     "duration": 0.017055,
     "end_time": "2022-09-22T10:49:25.894988",
     "exception": false,
     "start_time": "2022-09-22T10:49:25.877933",
     "status": "completed"
    },
    "tags": []
   },
   "outputs": [
    {
     "name": "stdout",
     "output_type": "stream",
     "text": [
      "5\n"
     ]
    }
   ],
   "source": [
    "def f(x):\n",
    "    y = abs(x)\n",
    "    return y\n",
    "\n",
    "print(f(5))"
   ]
  },
  {
   "cell_type": "markdown",
   "id": "1510246b",
   "metadata": {
    "papermill": {
     "duration": 0.005707,
     "end_time": "2022-09-22T10:49:25.907729",
     "exception": false,
     "start_time": "2022-09-22T10:49:25.902022",
     "status": "completed"
    },
    "tags": []
   },
   "source": [
    "# Keep Going\n",
    "\n",
    "Nice job with the code. Next up, you'll learn about *conditionals*, which you'll need to **[write interesting programs](https://www.kaggle.com/colinmorris/booleans-and-conditionals)**. "
   ]
  },
  {
   "cell_type": "markdown",
   "id": "53fe00ec",
   "metadata": {
    "papermill": {
     "duration": 0.005597,
     "end_time": "2022-09-22T10:49:25.919371",
     "exception": false,
     "start_time": "2022-09-22T10:49:25.913774",
     "status": "completed"
    },
    "tags": []
   },
   "source": [
    "---\n",
    "\n",
    "\n",
    "\n",
    "\n",
    "*Have questions or comments? Visit the [course discussion forum](https://www.kaggle.com/learn/python/discussion) to chat with other learners.*"
   ]
  }
 ],
 "metadata": {
  "kernelspec": {
   "display_name": "Python 3",
   "language": "python",
   "name": "python3"
  },
  "language_info": {
   "codemirror_mode": {
    "name": "ipython",
    "version": 3
   },
   "file_extension": ".py",
   "mimetype": "text/x-python",
   "name": "python",
   "nbconvert_exporter": "python",
   "pygments_lexer": "ipython3",
   "version": "3.7.12"
  },
  "papermill": {
   "default_parameters": {},
   "duration": 10.280662,
   "end_time": "2022-09-22T10:49:26.647437",
   "environment_variables": {},
   "exception": null,
   "input_path": "__notebook__.ipynb",
   "output_path": "__notebook__.ipynb",
   "parameters": {},
   "start_time": "2022-09-22T10:49:16.366775",
   "version": "2.3.4"
  }
 },
 "nbformat": 4,
 "nbformat_minor": 5
}
