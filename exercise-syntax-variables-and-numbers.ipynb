{
 "cells": [
  {
   "cell_type": "markdown",
   "id": "83e59ae8",
   "metadata": {
    "papermill": {
     "duration": 0.007753,
     "end_time": "2022-09-22T10:27:45.766244",
     "exception": false,
     "start_time": "2022-09-22T10:27:45.758491",
     "status": "completed"
    },
    "tags": []
   },
   "source": [
    "**This notebook is an exercise in the [Python](https://www.kaggle.com/learn/python) course.  You can reference the tutorial at [this link](https://www.kaggle.com/colinmorris/hello-python).**\n",
    "\n",
    "---\n"
   ]
  },
  {
   "cell_type": "markdown",
   "id": "fd78c53b",
   "metadata": {
    "papermill": {
     "duration": 0.006327,
     "end_time": "2022-09-22T10:27:45.780296",
     "exception": false,
     "start_time": "2022-09-22T10:27:45.773969",
     "status": "completed"
    },
    "tags": []
   },
   "source": [
    "Welcome to your first set of Python coding problems.  If this is your first time using Kaggle Notebooks, welcome! \n",
    "\n",
    "Notebooks are composed of blocks (called \"cells\") of text and code. Each of these is editable, though you'll mainly be editing the code cells to answer some questions.\n",
    "\n",
    "To get started, try running the code cell below (by pressing the ► button, or clicking on the cell and pressing ctrl+enter on your keyboard)."
   ]
  },
  {
   "cell_type": "code",
   "execution_count": 1,
   "id": "ee899f85",
   "metadata": {
    "execution": {
     "iopub.execute_input": "2022-09-22T10:27:45.795084Z",
     "iopub.status.busy": "2022-09-22T10:27:45.794447Z",
     "iopub.status.idle": "2022-09-22T10:27:45.807588Z",
     "shell.execute_reply": "2022-09-22T10:27:45.806689Z"
    },
    "papermill": {
     "duration": 0.02496,
     "end_time": "2022-09-22T10:27:45.811384",
     "exception": false,
     "start_time": "2022-09-22T10:27:45.786424",
     "status": "completed"
    },
    "tags": []
   },
   "outputs": [
    {
     "name": "stdout",
     "output_type": "stream",
     "text": [
      "You've successfully run some Python code\n",
      "Congratulations!\n"
     ]
    }
   ],
   "source": [
    "print(\"You've successfully run some Python code\")\n",
    "print(\"Congratulations!\")"
   ]
  },
  {
   "cell_type": "markdown",
   "id": "4bf41f25",
   "metadata": {
    "papermill": {
     "duration": 0.006179,
     "end_time": "2022-09-22T10:27:45.825002",
     "exception": false,
     "start_time": "2022-09-22T10:27:45.818823",
     "status": "completed"
    },
    "tags": []
   },
   "source": [
    "Try adding another line of code in the cell above and re-running it. \n",
    "\n",
    "Now let's get a little fancier:  Add a new code cell by clicking on an existing code cell, hitting the escape key, and then hitting the `a` or `b` key.  The `a` key will add a cell above the current cell, and `b` adds a cell below.\n",
    "\n",
    "Great! Now you know how to use Notebooks.\n",
    "\n",
    "Each hands-on exercise starts by setting up our feedback and code checking mechanism. Run the code cell below to do that. Then you'll be ready to move on to question 0."
   ]
  },
  {
   "cell_type": "code",
   "execution_count": 2,
   "id": "08ca9989",
   "metadata": {
    "_kg_hide-input": true,
    "_kg_hide-output": true,
    "execution": {
     "iopub.execute_input": "2022-09-22T10:27:45.839888Z",
     "iopub.status.busy": "2022-09-22T10:27:45.839192Z",
     "iopub.status.idle": "2022-09-22T10:27:45.889806Z",
     "shell.execute_reply": "2022-09-22T10:27:45.888527Z"
    },
    "papermill": {
     "duration": 0.060993,
     "end_time": "2022-09-22T10:27:45.892371",
     "exception": false,
     "start_time": "2022-09-22T10:27:45.831378",
     "status": "completed"
    },
    "tags": []
   },
   "outputs": [
    {
     "name": "stdout",
     "output_type": "stream",
     "text": [
      "Setup complete! You're ready to start question 0.\n"
     ]
    }
   ],
   "source": [
    "from learntools.core import binder; binder.bind(globals())\n",
    "from learntools.python.ex1 import *\n",
    "print(\"Setup complete! You're ready to start question 0.\")"
   ]
  },
  {
   "cell_type": "markdown",
   "id": "e8b582fb",
   "metadata": {
    "papermill": {
     "duration": 0.006767,
     "end_time": "2022-09-22T10:27:45.905808",
     "exception": false,
     "start_time": "2022-09-22T10:27:45.899041",
     "status": "completed"
    },
    "tags": []
   },
   "source": [
    "# 0.\n",
    "\n",
    "*This is a silly question intended as an introduction to the format we use for hands-on exercises throughout all Kaggle courses.*\n",
    "\n",
    "**What is your favorite color? **\n",
    "\n",
    "To complete this question, create a variable called `color` in the cell below with an appropriate value. The function call `q0.check()` (which we've already provided in the cell below) will check your answer."
   ]
  },
  {
   "cell_type": "code",
   "execution_count": 3,
   "id": "158802fe",
   "metadata": {
    "execution": {
     "iopub.execute_input": "2022-09-22T10:27:45.921530Z",
     "iopub.status.busy": "2022-09-22T10:27:45.920561Z",
     "iopub.status.idle": "2022-09-22T10:27:45.931306Z",
     "shell.execute_reply": "2022-09-22T10:27:45.930122Z"
    },
    "papermill": {
     "duration": 0.020929,
     "end_time": "2022-09-22T10:27:45.933536",
     "exception": false,
     "start_time": "2022-09-22T10:27:45.912607",
     "status": "completed"
    },
    "tags": []
   },
   "outputs": [
    {
     "data": {
      "application/javascript": [
       "parent.postMessage({\"jupyterEvent\": \"custom.exercise_interaction\", \"data\": {\"outcomeType\": 1, \"valueTowardsCompletion\": 0.25, \"interactionType\": 1, \"questionType\": 2, \"questionId\": \"0_ExerciseFormatTutorial\", \"learnToolsVersion\": \"0.3.4\", \"failureMessage\": \"\", \"exceptionClass\": \"\", \"trace\": \"\"}}, \"*\")"
      ],
      "text/plain": [
       "<IPython.core.display.Javascript object>"
      ]
     },
     "metadata": {},
     "output_type": "display_data"
    },
    {
     "data": {
      "text/markdown": [
       "<span style=\"color:#33cc33\">Correct:</span> What?! You got it right without needing a hint or anything? Drats. Well hey, you should still continue to the next step to get some practice asking for a hint and checking solutions. (Even though you obviously don't need any help here.)"
      ],
      "text/plain": [
       "Correct: What?! You got it right without needing a hint or anything? Drats. Well hey, you should still continue to the next step to get some practice asking for a hint and checking solutions. (Even though you obviously don't need any help here.)"
      ]
     },
     "metadata": {},
     "output_type": "display_data"
    }
   ],
   "source": [
    "# create a variable called color with an appropriate value on the line below\n",
    "# (Remember, strings in Python must be enclosed in 'single' or \"double\" quotes)\n",
    "color = 'blue'\n",
    "\n",
    "# Check your answer\n",
    "q0.check()"
   ]
  },
  {
   "cell_type": "markdown",
   "id": "9693f211",
   "metadata": {
    "papermill": {
     "duration": 0.006483,
     "end_time": "2022-09-22T10:27:45.946670",
     "exception": false,
     "start_time": "2022-09-22T10:27:45.940187",
     "status": "completed"
    },
    "tags": []
   },
   "source": [
    "Didn't get the right answer? How do you not even know your own favorite color?!\n",
    "\n",
    "Delete the `#` in the line below to make one of the lines run. You can choose between getting a hint or the full answer by choosing which line to remove the `#` from. \n",
    "\n",
    "Removing the `#` is called uncommenting, because it changes that line from a \"comment\" which Python doesn't run to code, which Python does run."
   ]
  },
  {
   "cell_type": "code",
   "execution_count": 4,
   "id": "7be5aa11",
   "metadata": {
    "execution": {
     "iopub.execute_input": "2022-09-22T10:27:45.961561Z",
     "iopub.status.busy": "2022-09-22T10:27:45.961156Z",
     "iopub.status.idle": "2022-09-22T10:27:45.969596Z",
     "shell.execute_reply": "2022-09-22T10:27:45.968501Z"
    },
    "papermill": {
     "duration": 0.018448,
     "end_time": "2022-09-22T10:27:45.971676",
     "exception": false,
     "start_time": "2022-09-22T10:27:45.953228",
     "status": "completed"
    },
    "tags": []
   },
   "outputs": [
    {
     "data": {
      "application/javascript": [
       "parent.postMessage({\"jupyterEvent\": \"custom.exercise_interaction\", \"data\": {\"interactionType\": 2, \"questionType\": 2, \"questionId\": \"0_ExerciseFormatTutorial\", \"learnToolsVersion\": \"0.3.4\", \"valueTowardsCompletion\": 0.0, \"failureMessage\": \"\", \"exceptionClass\": \"\", \"trace\": \"\", \"outcomeType\": 4}}, \"*\")"
      ],
      "text/plain": [
       "<IPython.core.display.Javascript object>"
      ]
     },
     "metadata": {},
     "output_type": "display_data"
    },
    {
     "data": {
      "text/markdown": [
       "<span style=\"color:#3366cc\">Hint:</span> Your favorite color rhymes with *glue*."
      ],
      "text/plain": [
       "Hint: Your favorite color rhymes with *glue*."
      ]
     },
     "metadata": {},
     "output_type": "display_data"
    }
   ],
   "source": [
    "q0.hint()\n",
    "#q0.solution()"
   ]
  },
  {
   "cell_type": "markdown",
   "id": "a6af7251",
   "metadata": {
    "papermill": {
     "duration": 0.006597,
     "end_time": "2022-09-22T10:27:45.985247",
     "exception": false,
     "start_time": "2022-09-22T10:27:45.978650",
     "status": "completed"
    },
    "tags": []
   },
   "source": [
    "The upcoming questions work the same way. The only thing that will change are the question numbers. For the next question, you'll call `q1.check()`, `q1.hint()`, `q1.solution()`, for question 2, you'll call `q2.check()`, and so on."
   ]
  },
  {
   "cell_type": "markdown",
   "id": "4bba4b32",
   "metadata": {
    "papermill": {
     "duration": 0.006662,
     "end_time": "2022-09-22T10:27:45.998689",
     "exception": false,
     "start_time": "2022-09-22T10:27:45.992027",
     "status": "completed"
    },
    "tags": []
   },
   "source": [
    "<hr/>\n",
    "\n",
    "# 1.\n",
    "\n",
    "Complete the code below. In case it's helpful, here is the table of available arithmetic operations:\n",
    "\n",
    "\n",
    "\n",
    "| Operator     | Name           | Description                                            |\n",
    "|--------------|----------------|--------------------------------------------------------|\n",
    "| ``a + b``    | Addition       | Sum of ``a`` and ``b``                                 |\n",
    "| ``a - b``    | Subtraction    | Difference of ``a`` and ``b``                          |\n",
    "| ``a * b``    | Multiplication | Product of ``a`` and ``b``                             |\n",
    "| ``a / b``    | True division  | Quotient of ``a`` and ``b``                            |\n",
    "| ``a // b``   | Floor division | Quotient of ``a`` and ``b``, removing fractional parts |\n",
    "| ``a % b``    | Modulus        | Integer remainder after division of ``a`` by ``b``     |\n",
    "| ``a ** b``   | Exponentiation | ``a`` raised to the power of ``b``                     |\n",
    "| ``-a``       | Negation       | The negative of ``a``                                  |\n",
    "\n",
    "<span style=\"display:none\"></span>\n"
   ]
  },
  {
   "cell_type": "code",
   "execution_count": 5,
   "id": "dcff0d4d",
   "metadata": {
    "execution": {
     "iopub.execute_input": "2022-09-22T10:27:46.015980Z",
     "iopub.status.busy": "2022-09-22T10:27:46.014868Z",
     "iopub.status.idle": "2022-09-22T10:27:46.025568Z",
     "shell.execute_reply": "2022-09-22T10:27:46.024467Z"
    },
    "papermill": {
     "duration": 0.02129,
     "end_time": "2022-09-22T10:27:46.027938",
     "exception": false,
     "start_time": "2022-09-22T10:27:46.006648",
     "status": "completed"
    },
    "tags": []
   },
   "outputs": [
    {
     "data": {
      "application/javascript": [
       "parent.postMessage({\"jupyterEvent\": \"custom.exercise_interaction\", \"data\": {\"outcomeType\": 1, \"valueTowardsCompletion\": 0.25, \"interactionType\": 1, \"questionType\": 1, \"questionId\": \"1_CircleArea\", \"learnToolsVersion\": \"0.3.4\", \"failureMessage\": \"\", \"exceptionClass\": \"\", \"trace\": \"\"}}, \"*\")"
      ],
      "text/plain": [
       "<IPython.core.display.Javascript object>"
      ]
     },
     "metadata": {},
     "output_type": "display_data"
    },
    {
     "data": {
      "text/markdown": [
       "<span style=\"color:#33cc33\">Correct</span>"
      ],
      "text/plain": [
       "Correct"
      ]
     },
     "metadata": {},
     "output_type": "display_data"
    }
   ],
   "source": [
    "pi = 3.14159 # approximate\n",
    "diameter = 3\n",
    "\n",
    "# Create a variable called 'radius' equal to half the diameter\n",
    "radius = diameter / 2\n",
    "\n",
    "# Create a variable called 'area', using the formula for the area of a circle: pi times the radius squared\n",
    "area = pi*radius**2\n",
    "\n",
    "# Check your answer\n",
    "q1.check()"
   ]
  },
  {
   "cell_type": "code",
   "execution_count": 6,
   "id": "63e2f441",
   "metadata": {
    "execution": {
     "iopub.execute_input": "2022-09-22T10:27:46.044339Z",
     "iopub.status.busy": "2022-09-22T10:27:46.043956Z",
     "iopub.status.idle": "2022-09-22T10:27:46.048602Z",
     "shell.execute_reply": "2022-09-22T10:27:46.047414Z"
    },
    "papermill": {
     "duration": 0.015356,
     "end_time": "2022-09-22T10:27:46.050853",
     "exception": false,
     "start_time": "2022-09-22T10:27:46.035497",
     "status": "completed"
    },
    "tags": []
   },
   "outputs": [],
   "source": [
    "# Uncomment and run the lines below if you need help.\n",
    "#q1.hint()\n",
    "#q1.solution()"
   ]
  },
  {
   "cell_type": "markdown",
   "id": "37f399f5",
   "metadata": {
    "papermill": {
     "duration": 0.006923,
     "end_time": "2022-09-22T10:27:46.065421",
     "exception": false,
     "start_time": "2022-09-22T10:27:46.058498",
     "status": "completed"
    },
    "tags": []
   },
   "source": [
    "<hr/>\n",
    "\n",
    "# 2.\n",
    "\n",
    "Add code to the following cell to swap variables `a` and `b` (so that `a` refers to the object previously referred to by `b` and vice versa)."
   ]
  },
  {
   "cell_type": "code",
   "execution_count": 7,
   "id": "21b3e37f",
   "metadata": {
    "execution": {
     "iopub.execute_input": "2022-09-22T10:27:46.081961Z",
     "iopub.status.busy": "2022-09-22T10:27:46.081220Z",
     "iopub.status.idle": "2022-09-22T10:27:46.092303Z",
     "shell.execute_reply": "2022-09-22T10:27:46.091111Z"
    },
    "papermill": {
     "duration": 0.021985,
     "end_time": "2022-09-22T10:27:46.094561",
     "exception": false,
     "start_time": "2022-09-22T10:27:46.072576",
     "status": "completed"
    },
    "tags": []
   },
   "outputs": [
    {
     "data": {
      "application/javascript": [
       "parent.postMessage({\"jupyterEvent\": \"custom.exercise_interaction\", \"data\": {\"outcomeType\": 1, \"valueTowardsCompletion\": 0.25, \"interactionType\": 1, \"questionType\": 2, \"questionId\": \"2_VariableSwap\", \"learnToolsVersion\": \"0.3.4\", \"failureMessage\": \"\", \"exceptionClass\": \"\", \"trace\": \"\"}}, \"*\")"
      ],
      "text/plain": [
       "<IPython.core.display.Javascript object>"
      ]
     },
     "metadata": {},
     "output_type": "display_data"
    },
    {
     "data": {
      "text/markdown": [
       "<span style=\"color:#33cc33\">Correct:</span> \n",
       "\n",
       "The most straightforward solution is to use a third variable to temporarily store one of the old values. e.g.:\n",
       "\n",
       "    tmp = a\n",
       "    a = b\n",
       "    b = tmp\n",
       "\n",
       "If you've read lots of Python code, you might have seen the following trick to swap two variables in one line:\n",
       "\n",
       "    a, b = b, a\n",
       "\n",
       "We'll demystify this bit of Python magic later when we talk about *tuples*."
      ],
      "text/plain": [
       "Correct: \n",
       "\n",
       "The most straightforward solution is to use a third variable to temporarily store one of the old values. e.g.:\n",
       "\n",
       "    tmp = a\n",
       "    a = b\n",
       "    b = tmp\n",
       "\n",
       "If you've read lots of Python code, you might have seen the following trick to swap two variables in one line:\n",
       "\n",
       "    a, b = b, a\n",
       "\n",
       "We'll demystify this bit of Python magic later when we talk about *tuples*."
      ]
     },
     "metadata": {},
     "output_type": "display_data"
    }
   ],
   "source": [
    "########### Setup code - don't touch this part ######################\n",
    "# If you're curious, these are examples of lists. We'll talk about \n",
    "# them in depth a few lessons from now. For now, just know that they're\n",
    "# yet another type of Python object, like int or float.\n",
    "a = [1, 2, 3]\n",
    "b = [3, 2, 1]\n",
    "q2.store_original_ids()\n",
    "######################################################################\n",
    "\n",
    "# Your code goes here. Swap the values to which a and b refer.\n",
    "# If you get stuck, you can always uncomment one or both of the lines in\n",
    "# the next cell for a hint, or to peek at the solution.\n",
    "c = 0\n",
    "c = a\n",
    "a = b\n",
    "b = c\n",
    "\n",
    "######################################################################\n",
    "\n",
    "# Check your answer\n",
    "q2.check()"
   ]
  },
  {
   "cell_type": "code",
   "execution_count": 8,
   "id": "63dfa922",
   "metadata": {
    "execution": {
     "iopub.execute_input": "2022-09-22T10:27:46.111307Z",
     "iopub.status.busy": "2022-09-22T10:27:46.110857Z",
     "iopub.status.idle": "2022-09-22T10:27:46.115811Z",
     "shell.execute_reply": "2022-09-22T10:27:46.114712Z"
    },
    "papermill": {
     "duration": 0.015781,
     "end_time": "2022-09-22T10:27:46.118085",
     "exception": false,
     "start_time": "2022-09-22T10:27:46.102304",
     "status": "completed"
    },
    "tags": []
   },
   "outputs": [],
   "source": [
    "#q2.hint()"
   ]
  },
  {
   "cell_type": "code",
   "execution_count": 9,
   "id": "55bb2576",
   "metadata": {
    "execution": {
     "iopub.execute_input": "2022-09-22T10:27:46.135197Z",
     "iopub.status.busy": "2022-09-22T10:27:46.134773Z",
     "iopub.status.idle": "2022-09-22T10:27:46.139422Z",
     "shell.execute_reply": "2022-09-22T10:27:46.138366Z"
    },
    "papermill": {
     "duration": 0.015917,
     "end_time": "2022-09-22T10:27:46.141624",
     "exception": false,
     "start_time": "2022-09-22T10:27:46.125707",
     "status": "completed"
    },
    "tags": []
   },
   "outputs": [],
   "source": [
    "#q2.solution()"
   ]
  },
  {
   "cell_type": "markdown",
   "id": "426ebcc7",
   "metadata": {
    "papermill": {
     "duration": 0.007196,
     "end_time": "2022-09-22T10:27:46.156486",
     "exception": false,
     "start_time": "2022-09-22T10:27:46.149290",
     "status": "completed"
    },
    "tags": []
   },
   "source": [
    "<hr/>\n",
    "\n",
    "# 3a.\n",
    "\n",
    "Add parentheses to the following expression so that it evaluates to 1."
   ]
  },
  {
   "cell_type": "code",
   "execution_count": 10,
   "id": "3fd06c5f",
   "metadata": {
    "execution": {
     "iopub.execute_input": "2022-09-22T10:27:46.173302Z",
     "iopub.status.busy": "2022-09-22T10:27:46.172611Z",
     "iopub.status.idle": "2022-09-22T10:27:46.179287Z",
     "shell.execute_reply": "2022-09-22T10:27:46.178130Z"
    },
    "papermill": {
     "duration": 0.01762,
     "end_time": "2022-09-22T10:27:46.181626",
     "exception": false,
     "start_time": "2022-09-22T10:27:46.164006",
     "status": "completed"
    },
    "tags": []
   },
   "outputs": [
    {
     "data": {
      "text/plain": [
       "1"
      ]
     },
     "execution_count": 10,
     "metadata": {},
     "output_type": "execute_result"
    }
   ],
   "source": [
    "(5 - 3) // 2"
   ]
  },
  {
   "cell_type": "code",
   "execution_count": 11,
   "id": "ad18ef35",
   "metadata": {
    "execution": {
     "iopub.execute_input": "2022-09-22T10:27:46.199014Z",
     "iopub.status.busy": "2022-09-22T10:27:46.198576Z",
     "iopub.status.idle": "2022-09-22T10:27:46.202942Z",
     "shell.execute_reply": "2022-09-22T10:27:46.201859Z"
    },
    "papermill": {
     "duration": 0.015613,
     "end_time": "2022-09-22T10:27:46.205117",
     "exception": false,
     "start_time": "2022-09-22T10:27:46.189504",
     "status": "completed"
    },
    "tags": []
   },
   "outputs": [],
   "source": [
    "#q3.a.hint()"
   ]
  },
  {
   "cell_type": "code",
   "execution_count": 12,
   "id": "aa2e5bcf",
   "metadata": {
    "execution": {
     "iopub.execute_input": "2022-09-22T10:27:46.222948Z",
     "iopub.status.busy": "2022-09-22T10:27:46.222300Z",
     "iopub.status.idle": "2022-09-22T10:27:46.230274Z",
     "shell.execute_reply": "2022-09-22T10:27:46.229275Z"
    },
    "papermill": {
     "duration": 0.019251,
     "end_time": "2022-09-22T10:27:46.232292",
     "exception": false,
     "start_time": "2022-09-22T10:27:46.213041",
     "status": "completed"
    },
    "tags": []
   },
   "outputs": [
    {
     "data": {
      "application/javascript": [
       "parent.postMessage({\"jupyterEvent\": \"custom.exercise_interaction\", \"data\": {\"interactionType\": 3, \"questionType\": 4, \"questionId\": \"3.1_ArithmeticParensEasy\", \"learnToolsVersion\": \"0.3.4\", \"valueTowardsCompletion\": 0.0, \"failureMessage\": \"\", \"exceptionClass\": \"\", \"trace\": \"\", \"outcomeType\": 4}}, \"*\")"
      ],
      "text/plain": [
       "<IPython.core.display.Javascript object>"
      ]
     },
     "metadata": {},
     "output_type": "display_data"
    },
    {
     "data": {
      "text/markdown": [
       "<span style=\"color:#33cc99\">Solution:</span> \n",
       "```python\n",
       "(5 - 3) // 2\n",
       "```"
      ],
      "text/plain": [
       "Solution: \n",
       "```python\n",
       "(5 - 3) // 2\n",
       "```"
      ]
     },
     "metadata": {},
     "output_type": "display_data"
    }
   ],
   "source": [
    "# Check your answer (Run this code cell to receive credit!)\n",
    "q3.a.solution()"
   ]
  },
  {
   "cell_type": "markdown",
   "id": "03d4b9f4",
   "metadata": {
    "papermill": {
     "duration": 0.008256,
     "end_time": "2022-09-22T10:27:46.248585",
     "exception": false,
     "start_time": "2022-09-22T10:27:46.240329",
     "status": "completed"
    },
    "tags": []
   },
   "source": [
    "# 3b.  <span title=\"A bit spicy\" style=\"color: darkgreen \">🌶️</span>\n",
    "\n",
    "<small>Questions, like this one, marked a spicy pepper are a bit harder.</small>\n",
    "\n",
    "Add parentheses to the following expression so that it evaluates to 0."
   ]
  },
  {
   "cell_type": "code",
   "execution_count": 13,
   "id": "42769b1e",
   "metadata": {
    "execution": {
     "iopub.execute_input": "2022-09-22T10:27:46.266213Z",
     "iopub.status.busy": "2022-09-22T10:27:46.265810Z",
     "iopub.status.idle": "2022-09-22T10:27:46.272223Z",
     "shell.execute_reply": "2022-09-22T10:27:46.271429Z"
    },
    "papermill": {
     "duration": 0.017819,
     "end_time": "2022-09-22T10:27:46.274380",
     "exception": false,
     "start_time": "2022-09-22T10:27:46.256561",
     "status": "completed"
    },
    "tags": []
   },
   "outputs": [
    {
     "data": {
      "text/plain": [
       "0"
      ]
     },
     "execution_count": 13,
     "metadata": {},
     "output_type": "execute_result"
    }
   ],
   "source": [
    "8 - (3 * 2) - (1 + 1)"
   ]
  },
  {
   "cell_type": "code",
   "execution_count": 14,
   "id": "2d179255",
   "metadata": {
    "execution": {
     "iopub.execute_input": "2022-09-22T10:27:46.292338Z",
     "iopub.status.busy": "2022-09-22T10:27:46.291906Z",
     "iopub.status.idle": "2022-09-22T10:27:46.296595Z",
     "shell.execute_reply": "2022-09-22T10:27:46.295410Z"
    },
    "papermill": {
     "duration": 0.016371,
     "end_time": "2022-09-22T10:27:46.298893",
     "exception": false,
     "start_time": "2022-09-22T10:27:46.282522",
     "status": "completed"
    },
    "tags": []
   },
   "outputs": [],
   "source": [
    "#q3.b.hint()"
   ]
  },
  {
   "cell_type": "code",
   "execution_count": 15,
   "id": "68f27dfb",
   "metadata": {
    "execution": {
     "iopub.execute_input": "2022-09-22T10:27:46.317314Z",
     "iopub.status.busy": "2022-09-22T10:27:46.316870Z",
     "iopub.status.idle": "2022-09-22T10:27:46.325351Z",
     "shell.execute_reply": "2022-09-22T10:27:46.324234Z"
    },
    "papermill": {
     "duration": 0.019974,
     "end_time": "2022-09-22T10:27:46.327408",
     "exception": false,
     "start_time": "2022-09-22T10:27:46.307434",
     "status": "completed"
    },
    "tags": []
   },
   "outputs": [
    {
     "data": {
      "application/javascript": [
       "parent.postMessage({\"jupyterEvent\": \"custom.exercise_interaction\", \"data\": {\"interactionType\": 3, \"questionType\": 4, \"questionId\": \"3.2_ArithmeticParensHard\", \"learnToolsVersion\": \"0.3.4\", \"valueTowardsCompletion\": 0.0, \"failureMessage\": \"\", \"exceptionClass\": \"\", \"trace\": \"\", \"outcomeType\": 4}}, \"*\")"
      ],
      "text/plain": [
       "<IPython.core.display.Javascript object>"
      ]
     },
     "metadata": {},
     "output_type": "display_data"
    },
    {
     "data": {
      "text/markdown": [
       "<span style=\"color:#33cc99\">Solution:</span> `(8 - 3) * (2 - (1 + 1))` is one solution. There may be others."
      ],
      "text/plain": [
       "Solution: `(8 - 3) * (2 - (1 + 1))` is one solution. There may be others."
      ]
     },
     "metadata": {},
     "output_type": "display_data"
    }
   ],
   "source": [
    "# Check your answer (Run this code cell to receive credit!)\n",
    "q3.b.solution()"
   ]
  },
  {
   "cell_type": "markdown",
   "id": "46cbe2bb",
   "metadata": {
    "papermill": {
     "duration": 0.008045,
     "end_time": "2022-09-22T10:27:46.343782",
     "exception": false,
     "start_time": "2022-09-22T10:27:46.335737",
     "status": "completed"
    },
    "tags": []
   },
   "source": [
    "<hr/>\n",
    "\n",
    "# 4. \n",
    "Alice, Bob and Carol have agreed to pool their Halloween candy and split it evenly among themselves.\n",
    "For the sake of their friendship, any candies left over will be smashed. For example, if they collectively\n",
    "bring home 91 candies, they'll take 30 each and smash 1.\n",
    "\n",
    "Write an arithmetic expression below to calculate how many candies they must smash for a given haul."
   ]
  },
  {
   "cell_type": "code",
   "execution_count": 16,
   "id": "6a591cb8",
   "metadata": {
    "execution": {
     "iopub.execute_input": "2022-09-22T10:27:46.362662Z",
     "iopub.status.busy": "2022-09-22T10:27:46.361952Z",
     "iopub.status.idle": "2022-09-22T10:27:46.370371Z",
     "shell.execute_reply": "2022-09-22T10:27:46.369408Z"
    },
    "papermill": {
     "duration": 0.020348,
     "end_time": "2022-09-22T10:27:46.372588",
     "exception": false,
     "start_time": "2022-09-22T10:27:46.352240",
     "status": "completed"
    },
    "tags": []
   },
   "outputs": [
    {
     "data": {
      "application/javascript": [
       "parent.postMessage({\"jupyterEvent\": \"custom.exercise_interaction\", \"data\": {\"outcomeType\": 1, \"valueTowardsCompletion\": 0.25, \"interactionType\": 1, \"questionType\": 1, \"questionId\": \"4_CandySplitting\", \"learnToolsVersion\": \"0.3.4\", \"failureMessage\": \"\", \"exceptionClass\": \"\", \"trace\": \"\"}}, \"*\")"
      ],
      "text/plain": [
       "<IPython.core.display.Javascript object>"
      ]
     },
     "metadata": {},
     "output_type": "display_data"
    },
    {
     "data": {
      "text/markdown": [
       "<span style=\"color:#33cc33\">Correct</span>"
      ],
      "text/plain": [
       "Correct"
      ]
     },
     "metadata": {},
     "output_type": "display_data"
    }
   ],
   "source": [
    "# Variables representing the number of candies collected by alice, bob, and carol\n",
    "alice_candies = 121\n",
    "bob_candies = 77\n",
    "carol_candies = 109\n",
    "\n",
    "# Your code goes here! Replace the right-hand side of this assignment with an expression\n",
    "# involving alice_candies, bob_candies, and carol_candies\n",
    "\n",
    "to_smash = (alice_candies + bob_candies + carol_candies)%3\n",
    "\n",
    "# Check your answer\n",
    "q4.check()"
   ]
  },
  {
   "cell_type": "code",
   "execution_count": 17,
   "id": "f70ab549",
   "metadata": {
    "execution": {
     "iopub.execute_input": "2022-09-22T10:27:46.391577Z",
     "iopub.status.busy": "2022-09-22T10:27:46.391163Z",
     "iopub.status.idle": "2022-09-22T10:27:46.395534Z",
     "shell.execute_reply": "2022-09-22T10:27:46.394498Z"
    },
    "papermill": {
     "duration": 0.01679,
     "end_time": "2022-09-22T10:27:46.398032",
     "exception": false,
     "start_time": "2022-09-22T10:27:46.381242",
     "status": "completed"
    },
    "tags": []
   },
   "outputs": [],
   "source": [
    "#q4.hint()\n",
    "#q4.solution()"
   ]
  },
  {
   "cell_type": "markdown",
   "id": "4ff2a66a",
   "metadata": {
    "papermill": {
     "duration": 0.008449,
     "end_time": "2022-09-22T10:27:46.415356",
     "exception": false,
     "start_time": "2022-09-22T10:27:46.406907",
     "status": "completed"
    },
    "tags": []
   },
   "source": [
    "# Keep Going\n",
    "\n",
    "Next up, you'll **[learn to write new functions and understand functions others write](https://www.kaggle.com/colinmorris/functions-and-getting-help)**. This will make you at least 10 times more productive as a Python programmer. "
   ]
  },
  {
   "cell_type": "markdown",
   "id": "109359da",
   "metadata": {
    "papermill": {
     "duration": 0.008364,
     "end_time": "2022-09-22T10:27:46.432463",
     "exception": false,
     "start_time": "2022-09-22T10:27:46.424099",
     "status": "completed"
    },
    "tags": []
   },
   "source": [
    "---\n",
    "\n",
    "\n",
    "\n",
    "\n",
    "*Have questions or comments? Visit the [course discussion forum](https://www.kaggle.com/learn/python/discussion) to chat with other learners.*"
   ]
  }
 ],
 "metadata": {
  "kernelspec": {
   "display_name": "Python 3",
   "language": "python",
   "name": "python3"
  },
  "language_info": {
   "codemirror_mode": {
    "name": "ipython",
    "version": 3
   },
   "file_extension": ".py",
   "mimetype": "text/x-python",
   "name": "python",
   "nbconvert_exporter": "python",
   "pygments_lexer": "ipython3",
   "version": "3.7.12"
  },
  "papermill": {
   "default_parameters": {},
   "duration": 10.672864,
   "end_time": "2022-09-22T10:27:47.062451",
   "environment_variables": {},
   "exception": null,
   "input_path": "__notebook__.ipynb",
   "output_path": "__notebook__.ipynb",
   "parameters": {},
   "start_time": "2022-09-22T10:27:36.389587",
   "version": "2.3.4"
  }
 },
 "nbformat": 4,
 "nbformat_minor": 5
}
