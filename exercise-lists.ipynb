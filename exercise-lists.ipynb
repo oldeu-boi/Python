{
 "cells": [
  {
   "cell_type": "markdown",
   "id": "094eed08",
   "metadata": {
    "papermill": {
     "duration": 0.005967,
     "end_time": "2022-09-22T13:06:57.914466",
     "exception": false,
     "start_time": "2022-09-22T13:06:57.908499",
     "status": "completed"
    },
    "tags": []
   },
   "source": [
    "**This notebook is an exercise in the [Python](https://www.kaggle.com/learn/python) course.  You can reference the tutorial at [this link](https://www.kaggle.com/colinmorris/lists).**\n",
    "\n",
    "---\n"
   ]
  },
  {
   "cell_type": "markdown",
   "id": "a1cd1a4d",
   "metadata": {
    "papermill": {
     "duration": 0.004502,
     "end_time": "2022-09-22T13:06:57.924116",
     "exception": false,
     "start_time": "2022-09-22T13:06:57.919614",
     "status": "completed"
    },
    "tags": []
   },
   "source": [
    "Things get more interesting with lists. You'll apply your new knowledge to solve the questions below. Remember to run the following cell first."
   ]
  },
  {
   "cell_type": "code",
   "execution_count": 1,
   "id": "d0e42976",
   "metadata": {
    "execution": {
     "iopub.execute_input": "2022-09-22T13:06:57.935665Z",
     "iopub.status.busy": "2022-09-22T13:06:57.935183Z",
     "iopub.status.idle": "2022-09-22T13:06:57.989759Z",
     "shell.execute_reply": "2022-09-22T13:06:57.988175Z"
    },
    "papermill": {
     "duration": 0.063375,
     "end_time": "2022-09-22T13:06:57.992323",
     "exception": false,
     "start_time": "2022-09-22T13:06:57.928948",
     "status": "completed"
    },
    "tags": []
   },
   "outputs": [
    {
     "name": "stdout",
     "output_type": "stream",
     "text": [
      "Setup complete.\n"
     ]
    }
   ],
   "source": [
    "from learntools.core import binder; binder.bind(globals())\n",
    "from learntools.python.ex4 import *\n",
    "print('Setup complete.')"
   ]
  },
  {
   "cell_type": "markdown",
   "id": "3b8a0be8",
   "metadata": {
    "papermill": {
     "duration": 0.00454,
     "end_time": "2022-09-22T13:06:58.001740",
     "exception": false,
     "start_time": "2022-09-22T13:06:57.997200",
     "status": "completed"
    },
    "tags": []
   },
   "source": [
    "# 1.\n",
    "\n",
    "Complete the function below according to its docstring."
   ]
  },
  {
   "cell_type": "code",
   "execution_count": 2,
   "id": "5cd58e7f",
   "metadata": {
    "execution": {
     "iopub.execute_input": "2022-09-22T13:06:58.012810Z",
     "iopub.status.busy": "2022-09-22T13:06:58.012372Z",
     "iopub.status.idle": "2022-09-22T13:06:58.023296Z",
     "shell.execute_reply": "2022-09-22T13:06:58.022538Z"
    },
    "papermill": {
     "duration": 0.018754,
     "end_time": "2022-09-22T13:06:58.025236",
     "exception": false,
     "start_time": "2022-09-22T13:06:58.006482",
     "status": "completed"
    },
    "tags": []
   },
   "outputs": [
    {
     "data": {
      "application/javascript": [
       "parent.postMessage({\"jupyterEvent\": \"custom.exercise_interaction\", \"data\": {\"outcomeType\": 1, \"valueTowardsCompletion\": 0.2, \"interactionType\": 1, \"questionType\": 2, \"questionId\": \"1_SelectSecondItem\", \"learnToolsVersion\": \"0.3.4\", \"failureMessage\": \"\", \"exceptionClass\": \"\", \"trace\": \"\"}}, \"*\")"
      ],
      "text/plain": [
       "<IPython.core.display.Javascript object>"
      ]
     },
     "metadata": {},
     "output_type": "display_data"
    },
    {
     "data": {
      "text/markdown": [
       "<span style=\"color:#33cc33\">Correct</span>"
      ],
      "text/plain": [
       "Correct"
      ]
     },
     "metadata": {},
     "output_type": "display_data"
    }
   ],
   "source": [
    "def select_second(L):\n",
    "    \"\"\"Return the second element of the given list. If the list has no second\n",
    "    element, return None.\n",
    "    \"\"\"\n",
    "    if len(L) < 2:\n",
    "        return None\n",
    "    return L[1]\n",
    "\n",
    "# Check your answer\n",
    "q1.check()"
   ]
  },
  {
   "cell_type": "code",
   "execution_count": 3,
   "id": "16468024",
   "metadata": {
    "execution": {
     "iopub.execute_input": "2022-09-22T13:06:58.037464Z",
     "iopub.status.busy": "2022-09-22T13:06:58.037060Z",
     "iopub.status.idle": "2022-09-22T13:06:58.041633Z",
     "shell.execute_reply": "2022-09-22T13:06:58.040607Z"
    },
    "papermill": {
     "duration": 0.013007,
     "end_time": "2022-09-22T13:06:58.043764",
     "exception": false,
     "start_time": "2022-09-22T13:06:58.030757",
     "status": "completed"
    },
    "tags": []
   },
   "outputs": [],
   "source": [
    "# q1.hint()\n",
    "# q1.solution()"
   ]
  },
  {
   "cell_type": "markdown",
   "id": "dd211ba5",
   "metadata": {
    "papermill": {
     "duration": 0.004769,
     "end_time": "2022-09-22T13:06:58.053831",
     "exception": false,
     "start_time": "2022-09-22T13:06:58.049062",
     "status": "completed"
    },
    "tags": []
   },
   "source": [
    "# 2.\n",
    "\n",
    "You are analyzing sports teams.  Members of each team are stored in a list. The Coach is the first name in the list, the captain is the second name in the list, and other players are listed after that. \n",
    "These lists are stored in another list, which starts with the best team and proceeds through the list to the worst team last.  Complete the function below to select the **captain** of the worst team."
   ]
  },
  {
   "cell_type": "code",
   "execution_count": 4,
   "id": "231c45a2",
   "metadata": {
    "execution": {
     "iopub.execute_input": "2022-09-22T13:06:58.065452Z",
     "iopub.status.busy": "2022-09-22T13:06:58.065045Z",
     "iopub.status.idle": "2022-09-22T13:06:58.073935Z",
     "shell.execute_reply": "2022-09-22T13:06:58.072883Z"
    },
    "papermill": {
     "duration": 0.017286,
     "end_time": "2022-09-22T13:06:58.076093",
     "exception": false,
     "start_time": "2022-09-22T13:06:58.058807",
     "status": "completed"
    },
    "tags": []
   },
   "outputs": [
    {
     "data": {
      "application/javascript": [
       "parent.postMessage({\"jupyterEvent\": \"custom.exercise_interaction\", \"data\": {\"outcomeType\": 1, \"valueTowardsCompletion\": 0.2, \"interactionType\": 1, \"questionType\": 2, \"questionId\": \"2_LosingTeamCaptain\", \"learnToolsVersion\": \"0.3.4\", \"failureMessage\": \"\", \"exceptionClass\": \"\", \"trace\": \"\"}}, \"*\")"
      ],
      "text/plain": [
       "<IPython.core.display.Javascript object>"
      ]
     },
     "metadata": {},
     "output_type": "display_data"
    },
    {
     "data": {
      "text/markdown": [
       "<span style=\"color:#33cc33\">Correct</span>"
      ],
      "text/plain": [
       "Correct"
      ]
     },
     "metadata": {},
     "output_type": "display_data"
    }
   ],
   "source": [
    "def losing_team_captain(teams):\n",
    "    \"\"\"Given a list of teams, where each team is a list of names, return the 2nd player (captain)\n",
    "    from the last listed team\n",
    "    \"\"\"\n",
    "    return teams[-1][1]\n",
    "\n",
    "# Check your answer\n",
    "q2.check()"
   ]
  },
  {
   "cell_type": "code",
   "execution_count": 5,
   "id": "506ec485",
   "metadata": {
    "execution": {
     "iopub.execute_input": "2022-09-22T13:06:58.088423Z",
     "iopub.status.busy": "2022-09-22T13:06:58.088006Z",
     "iopub.status.idle": "2022-09-22T13:06:58.092719Z",
     "shell.execute_reply": "2022-09-22T13:06:58.091614Z"
    },
    "papermill": {
     "duration": 0.013648,
     "end_time": "2022-09-22T13:06:58.095058",
     "exception": false,
     "start_time": "2022-09-22T13:06:58.081410",
     "status": "completed"
    },
    "tags": []
   },
   "outputs": [],
   "source": [
    "#q2.hint()\n",
    "#q2.solution()"
   ]
  },
  {
   "cell_type": "markdown",
   "id": "fcb70729",
   "metadata": {
    "papermill": {
     "duration": 0.005118,
     "end_time": "2022-09-22T13:06:58.105700",
     "exception": false,
     "start_time": "2022-09-22T13:06:58.100582",
     "status": "completed"
    },
    "tags": []
   },
   "source": [
    "# 3.\n",
    "\n",
    "The next iteration of Mario Kart will feature an extra-infuriating new item, the *Purple Shell*. When used, it warps the last place racer into first place and the first place racer into last place. Complete the function below to implement the Purple Shell's effect."
   ]
  },
  {
   "cell_type": "code",
   "execution_count": 6,
   "id": "980923f8",
   "metadata": {
    "execution": {
     "iopub.execute_input": "2022-09-22T13:06:58.117804Z",
     "iopub.status.busy": "2022-09-22T13:06:58.117376Z",
     "iopub.status.idle": "2022-09-22T13:06:58.126932Z",
     "shell.execute_reply": "2022-09-22T13:06:58.125897Z"
    },
    "papermill": {
     "duration": 0.018112,
     "end_time": "2022-09-22T13:06:58.129112",
     "exception": false,
     "start_time": "2022-09-22T13:06:58.111000",
     "status": "completed"
    },
    "tags": []
   },
   "outputs": [
    {
     "data": {
      "application/javascript": [
       "parent.postMessage({\"jupyterEvent\": \"custom.exercise_interaction\", \"data\": {\"outcomeType\": 1, \"valueTowardsCompletion\": 0.2, \"interactionType\": 1, \"questionType\": 2, \"questionId\": \"3_PurpleShell\", \"learnToolsVersion\": \"0.3.4\", \"failureMessage\": \"\", \"exceptionClass\": \"\", \"trace\": \"\"}}, \"*\")"
      ],
      "text/plain": [
       "<IPython.core.display.Javascript object>"
      ]
     },
     "metadata": {},
     "output_type": "display_data"
    },
    {
     "data": {
      "text/markdown": [
       "<span style=\"color:#33cc33\">Correct</span>"
      ],
      "text/plain": [
       "Correct"
      ]
     },
     "metadata": {},
     "output_type": "display_data"
    }
   ],
   "source": [
    "def purple_shell(racers):\n",
    "    \"\"\"Given a list of racers, set the first place racer (at the front of the list) to last\n",
    "    place and vice versa.\n",
    "    \n",
    "    >>> r = [\"Mario\", \"Bowser\", \"Luigi\"]\n",
    "    >>> purple_shell(r)\n",
    "    >>> r\n",
    "    [\"Luigi\", \"Bowser\", \"Mario\"]\n",
    "    \"\"\"\n",
    "    racers[0],racers[-1] = racers[-1],racers[0]\n",
    "\n",
    "\n",
    "# Check your answer\n",
    "q3.check()"
   ]
  },
  {
   "cell_type": "code",
   "execution_count": 7,
   "id": "a2e0c61d",
   "metadata": {
    "execution": {
     "iopub.execute_input": "2022-09-22T13:06:58.142003Z",
     "iopub.status.busy": "2022-09-22T13:06:58.141594Z",
     "iopub.status.idle": "2022-09-22T13:06:58.146099Z",
     "shell.execute_reply": "2022-09-22T13:06:58.145071Z"
    },
    "papermill": {
     "duration": 0.013488,
     "end_time": "2022-09-22T13:06:58.148386",
     "exception": false,
     "start_time": "2022-09-22T13:06:58.134898",
     "status": "completed"
    },
    "tags": []
   },
   "outputs": [],
   "source": [
    "#q3.hint()\n",
    "#q3.solution()"
   ]
  },
  {
   "cell_type": "markdown",
   "id": "88a00ed8",
   "metadata": {
    "papermill": {
     "duration": 0.005333,
     "end_time": "2022-09-22T13:06:58.159343",
     "exception": false,
     "start_time": "2022-09-22T13:06:58.154010",
     "status": "completed"
    },
    "tags": []
   },
   "source": [
    "# 4.\n",
    "\n",
    "What are the lengths of the following lists? Fill in the variable `lengths` with your predictions. (Try to make a prediction for each list *without* just calling `len()` on it.)"
   ]
  },
  {
   "cell_type": "code",
   "execution_count": 8,
   "id": "ad5314b5",
   "metadata": {
    "execution": {
     "iopub.execute_input": "2022-09-22T13:06:58.173192Z",
     "iopub.status.busy": "2022-09-22T13:06:58.172817Z",
     "iopub.status.idle": "2022-09-22T13:06:58.181463Z",
     "shell.execute_reply": "2022-09-22T13:06:58.180726Z"
    },
    "papermill": {
     "duration": 0.018695,
     "end_time": "2022-09-22T13:06:58.183565",
     "exception": false,
     "start_time": "2022-09-22T13:06:58.164870",
     "status": "completed"
    },
    "tags": []
   },
   "outputs": [
    {
     "data": {
      "application/javascript": [
       "parent.postMessage({\"jupyterEvent\": \"custom.exercise_interaction\", \"data\": {\"outcomeType\": 1, \"valueTowardsCompletion\": 0.2, \"interactionType\": 1, \"questionType\": 1, \"questionId\": \"4_UnderstandLen\", \"learnToolsVersion\": \"0.3.4\", \"failureMessage\": \"\", \"exceptionClass\": \"\", \"trace\": \"\"}}, \"*\")"
      ],
      "text/plain": [
       "<IPython.core.display.Javascript object>"
      ]
     },
     "metadata": {},
     "output_type": "display_data"
    },
    {
     "data": {
      "text/markdown": [
       "<span style=\"color:#33cc33\">Correct:</span> \n",
       "\n",
       "\n",
       "- a: There are three items in this list. Nothing tricky yet.\n",
       "- b: The list `[2, 3]` counts as a single item. It has one item before it. So we have 2 items in the list\n",
       "- c: The empty list has 0 items\n",
       "- d: The expression is the same as the list `[2, 3]`, which has length 2."
      ],
      "text/plain": [
       "Correct: \n",
       "\n",
       "\n",
       "- a: There are three items in this list. Nothing tricky yet.\n",
       "- b: The list `[2, 3]` counts as a single item. It has one item before it. So we have 2 items in the list\n",
       "- c: The empty list has 0 items\n",
       "- d: The expression is the same as the list `[2, 3]`, which has length 2."
      ]
     },
     "metadata": {},
     "output_type": "display_data"
    }
   ],
   "source": [
    "a = [1, 2, 3]\n",
    "b = [1, [2, 3]]\n",
    "c = []\n",
    "d = [1, 2, 3][1:]\n",
    "\n",
    "# Put your predictions in the list below. Lengths should contain 4 numbers, the\n",
    "# first being the length of a, the second being the length of b and so on.\n",
    "lengths = [3,2,0,2]\n",
    "        \n",
    "\n",
    "# Check your answer\n",
    "q4.check()"
   ]
  },
  {
   "cell_type": "code",
   "execution_count": 9,
   "id": "d8f067c1",
   "metadata": {
    "execution": {
     "iopub.execute_input": "2022-09-22T13:06:58.196755Z",
     "iopub.status.busy": "2022-09-22T13:06:58.196368Z",
     "iopub.status.idle": "2022-09-22T13:06:58.200591Z",
     "shell.execute_reply": "2022-09-22T13:06:58.199576Z"
    },
    "papermill": {
     "duration": 0.013341,
     "end_time": "2022-09-22T13:06:58.202808",
     "exception": false,
     "start_time": "2022-09-22T13:06:58.189467",
     "status": "completed"
    },
    "tags": []
   },
   "outputs": [],
   "source": [
    "# line below provides some explanation\n",
    "#q4.solution()"
   ]
  },
  {
   "cell_type": "markdown",
   "id": "9cc48682",
   "metadata": {
    "papermill": {
     "duration": 0.005464,
     "end_time": "2022-09-22T13:06:58.214323",
     "exception": false,
     "start_time": "2022-09-22T13:06:58.208859",
     "status": "completed"
    },
    "tags": []
   },
   "source": [
    "# 5. <span title=\"A bit spicy\" style=\"color: darkgreen \">🌶️</span>\n",
    "\n",
    "We're using lists to record people who attended our party and what order they arrived in. For example, the following list represents a party with 7 guests, in which Adela showed up first and Ford was the last to arrive:\n",
    "\n",
    "    party_attendees = ['Adela', 'Fleda', 'Owen', 'May', 'Mona', 'Gilbert', 'Ford']\n",
    "\n",
    "A guest is considered 'fashionably late' if they arrived after at least half of the party's guests. However, they must not be the very last guest (that's taking it too far). In the above example, Mona and Gilbert are the only guests who were fashionably late.\n",
    "\n",
    "Complete the function below which takes a list of party attendees as well as a person, and tells us whether that person is fashionably late."
   ]
  },
  {
   "cell_type": "code",
   "execution_count": 10,
   "id": "1dd914d8",
   "metadata": {
    "execution": {
     "iopub.execute_input": "2022-09-22T13:06:58.227393Z",
     "iopub.status.busy": "2022-09-22T13:06:58.227007Z",
     "iopub.status.idle": "2022-09-22T13:06:58.236209Z",
     "shell.execute_reply": "2022-09-22T13:06:58.235149Z"
    },
    "papermill": {
     "duration": 0.018278,
     "end_time": "2022-09-22T13:06:58.238380",
     "exception": false,
     "start_time": "2022-09-22T13:06:58.220102",
     "status": "completed"
    },
    "tags": []
   },
   "outputs": [
    {
     "data": {
      "application/javascript": [
       "parent.postMessage({\"jupyterEvent\": \"custom.exercise_interaction\", \"data\": {\"outcomeType\": 1, \"valueTowardsCompletion\": 0.2, \"interactionType\": 1, \"questionType\": 2, \"questionId\": \"5_FashionablyLate\", \"learnToolsVersion\": \"0.3.4\", \"failureMessage\": \"\", \"exceptionClass\": \"\", \"trace\": \"\"}}, \"*\")"
      ],
      "text/plain": [
       "<IPython.core.display.Javascript object>"
      ]
     },
     "metadata": {},
     "output_type": "display_data"
    },
    {
     "data": {
      "text/markdown": [
       "<span style=\"color:#33cc33\">Correct</span>"
      ],
      "text/plain": [
       "Correct"
      ]
     },
     "metadata": {},
     "output_type": "display_data"
    }
   ],
   "source": [
    "def fashionably_late(arrivals, name):\n",
    "    \"\"\"Given an ordered list of arrivals to the party and a name, return whether the guest with that\n",
    "    name was fashionably late.\n",
    "    \"\"\"\n",
    "    return name in arrivals[round(len(arrivals)/2):-1]\n",
    "\n",
    "# Check your answer\n",
    "q5.check()"
   ]
  },
  {
   "cell_type": "code",
   "execution_count": 11,
   "id": "c54d6971",
   "metadata": {
    "execution": {
     "iopub.execute_input": "2022-09-22T13:06:58.252340Z",
     "iopub.status.busy": "2022-09-22T13:06:58.251542Z",
     "iopub.status.idle": "2022-09-22T13:06:58.256463Z",
     "shell.execute_reply": "2022-09-22T13:06:58.255181Z"
    },
    "papermill": {
     "duration": 0.014323,
     "end_time": "2022-09-22T13:06:58.258718",
     "exception": false,
     "start_time": "2022-09-22T13:06:58.244395",
     "status": "completed"
    },
    "tags": []
   },
   "outputs": [],
   "source": [
    "#q5.hint()\n",
    "#q5.solution()"
   ]
  },
  {
   "cell_type": "markdown",
   "id": "ce5f3a27",
   "metadata": {
    "papermill": {
     "duration": 0.005888,
     "end_time": "2022-09-22T13:06:58.271195",
     "exception": false,
     "start_time": "2022-09-22T13:06:58.265307",
     "status": "completed"
    },
    "tags": []
   },
   "source": [
    "# Keep Going\n",
    "\n",
    "That's it for lists and tuples! Now you have the baseline knowledge to **[learn about loops](https://www.kaggle.com/colinmorris/loops-and-list-comprehensions)**, which is where lists and tuples get really interesting. "
   ]
  },
  {
   "cell_type": "markdown",
   "id": "ac6e913d",
   "metadata": {
    "papermill": {
     "duration": 0.005635,
     "end_time": "2022-09-22T13:06:58.282848",
     "exception": false,
     "start_time": "2022-09-22T13:06:58.277213",
     "status": "completed"
    },
    "tags": []
   },
   "source": [
    "---\n",
    "\n",
    "\n",
    "\n",
    "\n",
    "*Have questions or comments? Visit the [course discussion forum](https://www.kaggle.com/learn/python/discussion) to chat with other learners.*"
   ]
  }
 ],
 "metadata": {
  "kernelspec": {
   "display_name": "Python 3",
   "language": "python",
   "name": "python3"
  },
  "language_info": {
   "codemirror_mode": {
    "name": "ipython",
    "version": 3
   },
   "file_extension": ".py",
   "mimetype": "text/x-python",
   "name": "python",
   "nbconvert_exporter": "python",
   "pygments_lexer": "ipython3",
   "version": "3.7.12"
  },
  "papermill": {
   "default_parameters": {},
   "duration": 10.497762,
   "end_time": "2022-09-22T13:06:58.910211",
   "environment_variables": {},
   "exception": null,
   "input_path": "__notebook__.ipynb",
   "output_path": "__notebook__.ipynb",
   "parameters": {},
   "start_time": "2022-09-22T13:06:48.412449",
   "version": "2.3.4"
  }
 },
 "nbformat": 4,
 "nbformat_minor": 5
}
