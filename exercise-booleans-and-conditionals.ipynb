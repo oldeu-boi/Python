{
 "cells": [
  {
   "cell_type": "markdown",
   "id": "ef9984ae",
   "metadata": {
    "papermill": {
     "duration": 0.010619,
     "end_time": "2022-09-22T12:19:12.438334",
     "exception": false,
     "start_time": "2022-09-22T12:19:12.427715",
     "status": "completed"
    },
    "tags": []
   },
   "source": [
    "**This notebook is an exercise in the [Python](https://www.kaggle.com/learn/python) course.  You can reference the tutorial at [this link](https://www.kaggle.com/colinmorris/booleans-and-conditionals).**\n",
    "\n",
    "---\n"
   ]
  },
  {
   "cell_type": "markdown",
   "id": "01bbe5ff",
   "metadata": {
    "papermill": {
     "duration": 0.008773,
     "end_time": "2022-09-22T12:19:12.456974",
     "exception": false,
     "start_time": "2022-09-22T12:19:12.448201",
     "status": "completed"
    },
    "tags": []
   },
   "source": [
    "In this exercise, you'll put to work what you have learned about booleans and conditionals.\n",
    "\n",
    "To get started, **run the setup code below** before writing your own code (and if you leave this notebook and come back later, don't forget to run the setup code again)."
   ]
  },
  {
   "cell_type": "code",
   "execution_count": 1,
   "id": "a30c1613",
   "metadata": {
    "execution": {
     "iopub.execute_input": "2022-09-22T12:19:12.477403Z",
     "iopub.status.busy": "2022-09-22T12:19:12.476589Z",
     "iopub.status.idle": "2022-09-22T12:19:12.538182Z",
     "shell.execute_reply": "2022-09-22T12:19:12.536961Z"
    },
    "papermill": {
     "duration": 0.075119,
     "end_time": "2022-09-22T12:19:12.541183",
     "exception": false,
     "start_time": "2022-09-22T12:19:12.466064",
     "status": "completed"
    },
    "tags": []
   },
   "outputs": [
    {
     "name": "stdout",
     "output_type": "stream",
     "text": [
      "Setup complete.\n"
     ]
    }
   ],
   "source": [
    "from learntools.core import binder; binder.bind(globals())\n",
    "from learntools.python.ex3 import *\n",
    "print('Setup complete.')"
   ]
  },
  {
   "cell_type": "markdown",
   "id": "8468a67d",
   "metadata": {
    "papermill": {
     "duration": 0.008769,
     "end_time": "2022-09-22T12:19:12.559163",
     "exception": false,
     "start_time": "2022-09-22T12:19:12.550394",
     "status": "completed"
    },
    "tags": []
   },
   "source": [
    "# 1.\n",
    "\n",
    "Many programming languages have [`sign`](https://en.wikipedia.org/wiki/Sign_function) available as a built-in function. Python doesn't, but we can define our own!\n",
    "\n",
    "In the cell below, define a function called `sign` which takes a numerical argument and returns -1 if it's negative, 1 if it's positive, and 0 if it's 0."
   ]
  },
  {
   "cell_type": "code",
   "execution_count": 2,
   "id": "c9d5ad93",
   "metadata": {
    "execution": {
     "iopub.execute_input": "2022-09-22T12:19:12.579945Z",
     "iopub.status.busy": "2022-09-22T12:19:12.578964Z",
     "iopub.status.idle": "2022-09-22T12:19:12.591961Z",
     "shell.execute_reply": "2022-09-22T12:19:12.590788Z"
    },
    "papermill": {
     "duration": 0.025753,
     "end_time": "2022-09-22T12:19:12.594261",
     "exception": false,
     "start_time": "2022-09-22T12:19:12.568508",
     "status": "completed"
    },
    "tags": []
   },
   "outputs": [
    {
     "data": {
      "application/javascript": [
       "parent.postMessage({\"jupyterEvent\": \"custom.exercise_interaction\", \"data\": {\"outcomeType\": 1, \"valueTowardsCompletion\": 0.2, \"interactionType\": 1, \"questionType\": 2, \"questionId\": \"1_SignFunctionProblem\", \"learnToolsVersion\": \"0.3.4\", \"failureMessage\": \"\", \"exceptionClass\": \"\", \"trace\": \"\"}}, \"*\")"
      ],
      "text/plain": [
       "<IPython.core.display.Javascript object>"
      ]
     },
     "metadata": {},
     "output_type": "display_data"
    },
    {
     "data": {
      "text/markdown": [
       "<span style=\"color:#33cc33\">Correct</span>"
      ],
      "text/plain": [
       "Correct"
      ]
     },
     "metadata": {},
     "output_type": "display_data"
    }
   ],
   "source": [
    "# Your code goes here. Define a function called 'sign'\n",
    "def sign(x):\n",
    "    if x > 0:\n",
    "        return 1\n",
    "    elif x == 0:\n",
    "        return 0\n",
    "    else:\n",
    "        return -1\n",
    "# Check your answer\n",
    "q1.check()"
   ]
  },
  {
   "cell_type": "code",
   "execution_count": 3,
   "id": "4a222963",
   "metadata": {
    "execution": {
     "iopub.execute_input": "2022-09-22T12:19:12.617136Z",
     "iopub.status.busy": "2022-09-22T12:19:12.616056Z",
     "iopub.status.idle": "2022-09-22T12:19:12.621517Z",
     "shell.execute_reply": "2022-09-22T12:19:12.620310Z"
    },
    "papermill": {
     "duration": 0.019127,
     "end_time": "2022-09-22T12:19:12.624407",
     "exception": false,
     "start_time": "2022-09-22T12:19:12.605280",
     "status": "completed"
    },
    "tags": []
   },
   "outputs": [],
   "source": [
    "#q1.solution()"
   ]
  },
  {
   "cell_type": "markdown",
   "id": "c866ba7b",
   "metadata": {
    "papermill": {
     "duration": 0.009154,
     "end_time": "2022-09-22T12:19:12.643829",
     "exception": false,
     "start_time": "2022-09-22T12:19:12.634675",
     "status": "completed"
    },
    "tags": []
   },
   "source": [
    "# 2.\n",
    "\n",
    "We've decided to add \"logging\" to our `to_smash` function from the previous exercise."
   ]
  },
  {
   "cell_type": "code",
   "execution_count": 4,
   "id": "282e6097",
   "metadata": {
    "execution": {
     "iopub.execute_input": "2022-09-22T12:19:12.664230Z",
     "iopub.status.busy": "2022-09-22T12:19:12.663818Z",
     "iopub.status.idle": "2022-09-22T12:19:12.672339Z",
     "shell.execute_reply": "2022-09-22T12:19:12.671064Z"
    },
    "papermill": {
     "duration": 0.021724,
     "end_time": "2022-09-22T12:19:12.675023",
     "exception": false,
     "start_time": "2022-09-22T12:19:12.653299",
     "status": "completed"
    },
    "tags": []
   },
   "outputs": [
    {
     "name": "stdout",
     "output_type": "stream",
     "text": [
      "Splitting 91 candies\n"
     ]
    },
    {
     "data": {
      "text/plain": [
       "1"
      ]
     },
     "execution_count": 4,
     "metadata": {},
     "output_type": "execute_result"
    }
   ],
   "source": [
    "def to_smash(total_candies):\n",
    "    \"\"\"Return the number of leftover candies that must be smashed after distributing\n",
    "    the given number of candies evenly between 3 friends.\n",
    "    \n",
    "    >>> to_smash(91)\n",
    "    1\n",
    "    \"\"\"\n",
    "    print(\"Splitting\", total_candies, \"candies\")\n",
    "    return total_candies % 3\n",
    "\n",
    "to_smash(91)"
   ]
  },
  {
   "cell_type": "markdown",
   "id": "101fd4f2",
   "metadata": {
    "papermill": {
     "duration": 0.009283,
     "end_time": "2022-09-22T12:19:12.694166",
     "exception": false,
     "start_time": "2022-09-22T12:19:12.684883",
     "status": "completed"
    },
    "tags": []
   },
   "source": [
    "What happens if we call it with `total_candies = 1`?"
   ]
  },
  {
   "cell_type": "code",
   "execution_count": 5,
   "id": "6cdc0e45",
   "metadata": {
    "execution": {
     "iopub.execute_input": "2022-09-22T12:19:12.715646Z",
     "iopub.status.busy": "2022-09-22T12:19:12.715222Z",
     "iopub.status.idle": "2022-09-22T12:19:12.723577Z",
     "shell.execute_reply": "2022-09-22T12:19:12.722270Z"
    },
    "papermill": {
     "duration": 0.023108,
     "end_time": "2022-09-22T12:19:12.727308",
     "exception": false,
     "start_time": "2022-09-22T12:19:12.704200",
     "status": "completed"
    },
    "tags": []
   },
   "outputs": [
    {
     "name": "stdout",
     "output_type": "stream",
     "text": [
      "Splitting 1 candies\n"
     ]
    },
    {
     "data": {
      "text/plain": [
       "1"
      ]
     },
     "execution_count": 5,
     "metadata": {},
     "output_type": "execute_result"
    }
   ],
   "source": [
    "to_smash(1)"
   ]
  },
  {
   "cell_type": "markdown",
   "id": "60c07153",
   "metadata": {
    "papermill": {
     "duration": 0.009266,
     "end_time": "2022-09-22T12:19:12.747343",
     "exception": false,
     "start_time": "2022-09-22T12:19:12.738077",
     "status": "completed"
    },
    "tags": []
   },
   "source": [
    "That isn't great grammar!\n",
    "\n",
    "Modify the definition in the cell below to correct the grammar of our print statement. (If there's only one candy, we should use the singular \"candy\" instead of the plural \"candies\")"
   ]
  },
  {
   "cell_type": "code",
   "execution_count": 6,
   "id": "6cdcb3c5",
   "metadata": {
    "execution": {
     "iopub.execute_input": "2022-09-22T12:19:12.769403Z",
     "iopub.status.busy": "2022-09-22T12:19:12.768982Z",
     "iopub.status.idle": "2022-09-22T12:19:12.779157Z",
     "shell.execute_reply": "2022-09-22T12:19:12.777549Z"
    },
    "papermill": {
     "duration": 0.024803,
     "end_time": "2022-09-22T12:19:12.782066",
     "exception": false,
     "start_time": "2022-09-22T12:19:12.757263",
     "status": "completed"
    },
    "tags": []
   },
   "outputs": [
    {
     "name": "stdout",
     "output_type": "stream",
     "text": [
      "Splitting 91 candies\n",
      "Splitting 1 candy\n"
     ]
    },
    {
     "data": {
      "text/plain": [
       "1"
      ]
     },
     "execution_count": 6,
     "metadata": {},
     "output_type": "execute_result"
    }
   ],
   "source": [
    "def to_smash(total_candies):\n",
    "    \"\"\"Return the number of leftover candies that must be smashed after distributing\n",
    "    the given number of candies evenly between 3 friends.\n",
    "    \n",
    "    >>> to_smash(91)\n",
    "    1\n",
    "    \"\"\"\n",
    "    if total_candies == 1:\n",
    "        print(\"Splitting\", total_candies, \"candy\")\n",
    "    else:\n",
    "        print(\"Splitting\", total_candies, \"candies\")\n",
    "    return total_candies % 3\n",
    "\n",
    "to_smash(91)\n",
    "to_smash(1)"
   ]
  },
  {
   "cell_type": "markdown",
   "id": "98b93d78",
   "metadata": {
    "papermill": {
     "duration": 0.009933,
     "end_time": "2022-09-22T12:19:12.802502",
     "exception": false,
     "start_time": "2022-09-22T12:19:12.792569",
     "status": "completed"
    },
    "tags": []
   },
   "source": [
    "To get credit for completing this problem, and to see the official answer, run the code cell below."
   ]
  },
  {
   "cell_type": "code",
   "execution_count": 7,
   "id": "d9655a7a",
   "metadata": {
    "execution": {
     "iopub.execute_input": "2022-09-22T12:19:12.823916Z",
     "iopub.status.busy": "2022-09-22T12:19:12.823530Z",
     "iopub.status.idle": "2022-09-22T12:19:12.832750Z",
     "shell.execute_reply": "2022-09-22T12:19:12.831534Z"
    },
    "papermill": {
     "duration": 0.022681,
     "end_time": "2022-09-22T12:19:12.835046",
     "exception": false,
     "start_time": "2022-09-22T12:19:12.812365",
     "status": "completed"
    },
    "tags": []
   },
   "outputs": [
    {
     "data": {
      "application/javascript": [
       "parent.postMessage({\"jupyterEvent\": \"custom.exercise_interaction\", \"data\": {\"interactionType\": 3, \"questionType\": 4, \"questionId\": \"2_PluralizationProblem\", \"learnToolsVersion\": \"0.3.4\", \"valueTowardsCompletion\": 0.0, \"failureMessage\": \"\", \"exceptionClass\": \"\", \"trace\": \"\", \"outcomeType\": 4}}, \"*\")"
      ],
      "text/plain": [
       "<IPython.core.display.Javascript object>"
      ]
     },
     "metadata": {},
     "output_type": "display_data"
    },
    {
     "data": {
      "text/markdown": [
       "<span style=\"color:#33cc99\">Solution:</span> A straightforward (and totally fine) solution is to replace the original `print` call with:\n",
       "\n",
       "```python\n",
       "if total_candies == 1:\n",
       "    print(\"Splitting 1 candy\")\n",
       "else:\n",
       "    print(\"Splitting\", total_candies, \"candies\")\n",
       "```\n",
       "\n",
       "Here's a slightly more succinct solution using a conditional expression:\n",
       "\n",
       "```python\n",
       "print(\"Splitting\", total_candies, \"candy\" if total_candies == 1 else \"candies\")\n",
       "```"
      ],
      "text/plain": [
       "Solution: A straightforward (and totally fine) solution is to replace the original `print` call with:\n",
       "\n",
       "```python\n",
       "if total_candies == 1:\n",
       "    print(\"Splitting 1 candy\")\n",
       "else:\n",
       "    print(\"Splitting\", total_candies, \"candies\")\n",
       "```\n",
       "\n",
       "Here's a slightly more succinct solution using a conditional expression:\n",
       "\n",
       "```python\n",
       "print(\"Splitting\", total_candies, \"candy\" if total_candies == 1 else \"candies\")\n",
       "```"
      ]
     },
     "metadata": {},
     "output_type": "display_data"
    }
   ],
   "source": [
    "# Check your answer (Run this code cell to receive credit!)\n",
    "q2.solution()"
   ]
  },
  {
   "cell_type": "markdown",
   "id": "59bf38de",
   "metadata": {
    "papermill": {
     "duration": 0.010599,
     "end_time": "2022-09-22T12:19:12.856103",
     "exception": false,
     "start_time": "2022-09-22T12:19:12.845504",
     "status": "completed"
    },
    "tags": []
   },
   "source": [
    "# 3. <span title=\"A bit spicy\" style=\"color: darkgreen \">🌶️</span>\n",
    "\n",
    "In the tutorial, we talked about deciding whether we're prepared for the weather. I said that I'm safe from today's weather if...\n",
    "- I have an umbrella...\n",
    "- or if the rain isn't too heavy and I have a hood...\n",
    "- otherwise, I'm still fine unless it's raining *and* it's a workday\n",
    "\n",
    "The function below uses our first attempt at turning this logic into a Python expression. I claimed that there was a bug in that code. Can you find it?\n",
    "\n",
    "To prove that `prepared_for_weather` is buggy, come up with a set of inputs where either:\n",
    "- the function returns `False` (but should have returned `True`), or\n",
    "- the function returned `True` (but should have returned `False`).\n",
    "\n",
    "To get credit for completing this question, your code should return a <font color='#33cc33'>Correct</font> result."
   ]
  },
  {
   "cell_type": "code",
   "execution_count": 8,
   "id": "5cc7b859",
   "metadata": {
    "execution": {
     "iopub.execute_input": "2022-09-22T12:19:12.878574Z",
     "iopub.status.busy": "2022-09-22T12:19:12.878168Z",
     "iopub.status.idle": "2022-09-22T12:19:12.890133Z",
     "shell.execute_reply": "2022-09-22T12:19:12.889115Z"
    },
    "papermill": {
     "duration": 0.025977,
     "end_time": "2022-09-22T12:19:12.892409",
     "exception": false,
     "start_time": "2022-09-22T12:19:12.866432",
     "status": "completed"
    },
    "tags": []
   },
   "outputs": [
    {
     "name": "stdout",
     "output_type": "stream",
     "text": [
      "False\n"
     ]
    },
    {
     "data": {
      "application/javascript": [
       "parent.postMessage({\"jupyterEvent\": \"custom.exercise_interaction\", \"data\": {\"outcomeType\": 1, \"valueTowardsCompletion\": 0.2, \"interactionType\": 1, \"questionType\": 1, \"questionId\": \"3_WeatherDebug\", \"learnToolsVersion\": \"0.3.4\", \"failureMessage\": \"\", \"exceptionClass\": \"\", \"trace\": \"\"}}, \"*\")"
      ],
      "text/plain": [
       "<IPython.core.display.Javascript object>"
      ]
     },
     "metadata": {},
     "output_type": "display_data"
    },
    {
     "data": {
      "text/markdown": [
       "<span style=\"color:#33cc33\">Correct:</span> \n",
       "\n",
       "One example of a failing test case is:\n",
       "\n",
       "```python\n",
       "have_umbrella = False\n",
       "rain_level = 0.0\n",
       "have_hood = False\n",
       "is_workday = False\n",
       "```\n",
       "\n",
       "Clearly we're prepared for the weather in this case. It's not raining. Not only that, it's not a workday, so we don't even need to leave the house! But our function will return False on these inputs.\n",
       "\n",
       "The key problem is that Python implictly parenthesizes the last part as:\n",
       "\n",
       "```python\n",
       "(not (rain_level > 0)) and is_workday\n",
       "```\n",
       "\n",
       "Whereas what we were trying to express would look more like:\n",
       "\n",
       "```python\n",
       "not (rain_level > 0 and is_workday)\n",
       "```\n"
      ],
      "text/plain": [
       "Correct: \n",
       "\n",
       "One example of a failing test case is:\n",
       "\n",
       "```python\n",
       "have_umbrella = False\n",
       "rain_level = 0.0\n",
       "have_hood = False\n",
       "is_workday = False\n",
       "```\n",
       "\n",
       "Clearly we're prepared for the weather in this case. It's not raining. Not only that, it's not a workday, so we don't even need to leave the house! But our function will return False on these inputs.\n",
       "\n",
       "The key problem is that Python implictly parenthesizes the last part as:\n",
       "\n",
       "```python\n",
       "(not (rain_level > 0)) and is_workday\n",
       "```\n",
       "\n",
       "Whereas what we were trying to express would look more like:\n",
       "\n",
       "```python\n",
       "not (rain_level > 0 and is_workday)\n",
       "```"
      ]
     },
     "metadata": {},
     "output_type": "display_data"
    }
   ],
   "source": [
    "def prepared_for_weather(have_umbrella, rain_level, have_hood, is_workday):\n",
    "    # Don't change this code. Our goal is just to find the bug, not fix it!\n",
    "    return have_umbrella or rain_level < 5 and have_hood or not rain_level > 0 and is_workday\n",
    "\n",
    "# Change the values of these inputs so they represent a case where prepared_for_weather\n",
    "# returns the wrong answer.\n",
    "have_umbrella = False\n",
    "rain_level = 1.0\n",
    "have_hood = False\n",
    "is_workday = False\n",
    "\n",
    "# Check what the function returns given the current values of the variables above\n",
    "actual = prepared_for_weather(have_umbrella, rain_level, have_hood, is_workday)\n",
    "print(actual)\n",
    "\n",
    "# Check your answer\n",
    "q3.check()"
   ]
  },
  {
   "cell_type": "code",
   "execution_count": 9,
   "id": "6afb3147",
   "metadata": {
    "execution": {
     "iopub.execute_input": "2022-09-22T12:19:12.915604Z",
     "iopub.status.busy": "2022-09-22T12:19:12.915187Z",
     "iopub.status.idle": "2022-09-22T12:19:12.920008Z",
     "shell.execute_reply": "2022-09-22T12:19:12.918962Z"
    },
    "papermill": {
     "duration": 0.018972,
     "end_time": "2022-09-22T12:19:12.922271",
     "exception": false,
     "start_time": "2022-09-22T12:19:12.903299",
     "status": "completed"
    },
    "tags": []
   },
   "outputs": [],
   "source": [
    "#q3.hint()\n",
    "#q3.solution()"
   ]
  },
  {
   "cell_type": "markdown",
   "id": "99c0d557",
   "metadata": {
    "papermill": {
     "duration": 0.010163,
     "end_time": "2022-09-22T12:19:12.943626",
     "exception": false,
     "start_time": "2022-09-22T12:19:12.933463",
     "status": "completed"
    },
    "tags": []
   },
   "source": [
    "# 4.\n",
    "\n",
    "The function `is_negative` below is implemented correctly - it returns True if the given number is negative and False otherwise.\n",
    "\n",
    "However, it's more verbose than it needs to be. We can actually reduce the number of lines of code in this function by *75%* while keeping the same behaviour. \n",
    "\n",
    "See if you can come up with an equivalent body that uses just **one line** of code, and put it in the function `concise_is_negative`. (HINT: you don't even need Python's ternary syntax)"
   ]
  },
  {
   "cell_type": "code",
   "execution_count": 10,
   "id": "42329be4",
   "metadata": {
    "execution": {
     "iopub.execute_input": "2022-09-22T12:19:12.966753Z",
     "iopub.status.busy": "2022-09-22T12:19:12.966320Z",
     "iopub.status.idle": "2022-09-22T12:19:12.975879Z",
     "shell.execute_reply": "2022-09-22T12:19:12.974810Z"
    },
    "papermill": {
     "duration": 0.023978,
     "end_time": "2022-09-22T12:19:12.978176",
     "exception": false,
     "start_time": "2022-09-22T12:19:12.954198",
     "status": "completed"
    },
    "tags": []
   },
   "outputs": [
    {
     "data": {
      "application/javascript": [
       "parent.postMessage({\"jupyterEvent\": \"custom.exercise_interaction\", \"data\": {\"outcomeType\": 1, \"valueTowardsCompletion\": 0.2, \"interactionType\": 1, \"questionType\": 2, \"questionId\": \"4_ConciseIsNegative\", \"learnToolsVersion\": \"0.3.4\", \"failureMessage\": \"\", \"exceptionClass\": \"\", \"trace\": \"\"}}, \"*\")"
      ],
      "text/plain": [
       "<IPython.core.display.Javascript object>"
      ]
     },
     "metadata": {},
     "output_type": "display_data"
    },
    {
     "data": {
      "text/markdown": [
       "<span style=\"color:#33cc33\">Correct</span>"
      ],
      "text/plain": [
       "Correct"
      ]
     },
     "metadata": {},
     "output_type": "display_data"
    }
   ],
   "source": [
    "def is_negative(number):\n",
    "    if number < 0:\n",
    "        return True\n",
    "    else:\n",
    "        return False\n",
    "\n",
    "def concise_is_negative(number):\n",
    "    return True and (number < 0)\n",
    "\n",
    "# Check your answer\n",
    "q4.check()"
   ]
  },
  {
   "cell_type": "code",
   "execution_count": 11,
   "id": "4edcc836",
   "metadata": {
    "execution": {
     "iopub.execute_input": "2022-09-22T12:19:13.001606Z",
     "iopub.status.busy": "2022-09-22T12:19:13.001196Z",
     "iopub.status.idle": "2022-09-22T12:19:13.005028Z",
     "shell.execute_reply": "2022-09-22T12:19:13.004171Z"
    },
    "papermill": {
     "duration": 0.018142,
     "end_time": "2022-09-22T12:19:13.007195",
     "exception": false,
     "start_time": "2022-09-22T12:19:12.989053",
     "status": "completed"
    },
    "tags": []
   },
   "outputs": [],
   "source": [
    "#q4.hint()\n",
    "#q4.solution()"
   ]
  },
  {
   "cell_type": "markdown",
   "id": "551f61ea",
   "metadata": {
    "papermill": {
     "duration": 0.010983,
     "end_time": "2022-09-22T12:19:13.029181",
     "exception": false,
     "start_time": "2022-09-22T12:19:13.018198",
     "status": "completed"
    },
    "tags": []
   },
   "source": [
    "# 5a.\n",
    "\n",
    "The boolean variables `ketchup`, `mustard` and `onion` represent whether a customer wants a particular topping on their hot dog. We want to implement a number of boolean functions that correspond to some yes-or-no questions about the customer's order. For example:"
   ]
  },
  {
   "cell_type": "code",
   "execution_count": 12,
   "id": "c6fd6da5",
   "metadata": {
    "execution": {
     "iopub.execute_input": "2022-09-22T12:19:13.054327Z",
     "iopub.status.busy": "2022-09-22T12:19:13.053896Z",
     "iopub.status.idle": "2022-09-22T12:19:13.059084Z",
     "shell.execute_reply": "2022-09-22T12:19:13.058060Z"
    },
    "papermill": {
     "duration": 0.020791,
     "end_time": "2022-09-22T12:19:13.061284",
     "exception": false,
     "start_time": "2022-09-22T12:19:13.040493",
     "status": "completed"
    },
    "tags": []
   },
   "outputs": [],
   "source": [
    "def onionless(ketchup, mustard, onion):\n",
    "    \"\"\"Return whether the customer doesn't want onions.\n",
    "    \"\"\"\n",
    "    return not onion (onion == false)"
   ]
  },
  {
   "cell_type": "code",
   "execution_count": 13,
   "id": "157cb5ce",
   "metadata": {
    "execution": {
     "iopub.execute_input": "2022-09-22T12:19:13.084929Z",
     "iopub.status.busy": "2022-09-22T12:19:13.084553Z",
     "iopub.status.idle": "2022-09-22T12:19:13.094689Z",
     "shell.execute_reply": "2022-09-22T12:19:13.093497Z"
    },
    "papermill": {
     "duration": 0.025118,
     "end_time": "2022-09-22T12:19:13.097408",
     "exception": false,
     "start_time": "2022-09-22T12:19:13.072290",
     "status": "completed"
    },
    "tags": []
   },
   "outputs": [
    {
     "data": {
      "application/javascript": [
       "parent.postMessage({\"jupyterEvent\": \"custom.exercise_interaction\", \"data\": {\"outcomeType\": 1, \"valueTowardsCompletion\": 0.2, \"interactionType\": 1, \"questionType\": 2, \"questionId\": \"5.1_AllToppings\", \"learnToolsVersion\": \"0.3.4\", \"failureMessage\": \"\", \"exceptionClass\": \"\", \"trace\": \"\"}}, \"*\")"
      ],
      "text/plain": [
       "<IPython.core.display.Javascript object>"
      ]
     },
     "metadata": {},
     "output_type": "display_data"
    },
    {
     "data": {
      "text/markdown": [
       "<span style=\"color:#33cc33\">Correct</span>"
      ],
      "text/plain": [
       "Correct"
      ]
     },
     "metadata": {},
     "output_type": "display_data"
    }
   ],
   "source": [
    "def wants_all_toppings(ketchup, mustard, onion):\n",
    "    \"\"\"Return whether the customer wants \"the works\" (all 3 toppings)\n",
    "    \"\"\"\n",
    "    return True and (ketchup == True and mustard == True and onion == True)\n",
    "\n",
    "# Check your answer\n",
    "q5.a.check()"
   ]
  },
  {
   "cell_type": "code",
   "execution_count": 14,
   "id": "32ae2589",
   "metadata": {
    "execution": {
     "iopub.execute_input": "2022-09-22T12:19:13.121810Z",
     "iopub.status.busy": "2022-09-22T12:19:13.121448Z",
     "iopub.status.idle": "2022-09-22T12:19:13.125643Z",
     "shell.execute_reply": "2022-09-22T12:19:13.124532Z"
    },
    "papermill": {
     "duration": 0.019345,
     "end_time": "2022-09-22T12:19:13.128009",
     "exception": false,
     "start_time": "2022-09-22T12:19:13.108664",
     "status": "completed"
    },
    "tags": []
   },
   "outputs": [],
   "source": [
    "#q5.a.hint()\n",
    "#q5.a.solution()"
   ]
  },
  {
   "cell_type": "markdown",
   "id": "bcff6a96",
   "metadata": {
    "papermill": {
     "duration": 0.01141,
     "end_time": "2022-09-22T12:19:13.150394",
     "exception": false,
     "start_time": "2022-09-22T12:19:13.138984",
     "status": "completed"
    },
    "tags": []
   },
   "source": [
    "# 5b.\n",
    "\n",
    "For the next function, fill in the body to match the English description in the docstring. "
   ]
  },
  {
   "cell_type": "code",
   "execution_count": 15,
   "id": "5dc799e8",
   "metadata": {
    "execution": {
     "iopub.execute_input": "2022-09-22T12:19:13.181315Z",
     "iopub.status.busy": "2022-09-22T12:19:13.180910Z",
     "iopub.status.idle": "2022-09-22T12:19:13.192350Z",
     "shell.execute_reply": "2022-09-22T12:19:13.191137Z"
    },
    "papermill": {
     "duration": 0.029166,
     "end_time": "2022-09-22T12:19:13.195969",
     "exception": false,
     "start_time": "2022-09-22T12:19:13.166803",
     "status": "completed"
    },
    "tags": []
   },
   "outputs": [
    {
     "data": {
      "application/javascript": [
       "parent.postMessage({\"jupyterEvent\": \"custom.exercise_interaction\", \"data\": {\"outcomeType\": 1, \"valueTowardsCompletion\": 0.2, \"interactionType\": 1, \"questionType\": 2, \"questionId\": \"5.2_PlainDog\", \"learnToolsVersion\": \"0.3.4\", \"failureMessage\": \"\", \"exceptionClass\": \"\", \"trace\": \"\"}}, \"*\")"
      ],
      "text/plain": [
       "<IPython.core.display.Javascript object>"
      ]
     },
     "metadata": {},
     "output_type": "display_data"
    },
    {
     "data": {
      "text/markdown": [
       "<span style=\"color:#33cc33\">Correct:</span> \n",
       "\n",
       "One solution looks like:\n",
       "```python\n",
       "return not ketchup and not mustard and not onion\n",
       "```\n",
       "\n",
       "We can also [\"factor out\" the nots](https://en.wikipedia.org/wiki/De_Morgan%27s_laws) to get:\n",
       "\n",
       "```python\n",
       "return not (ketchup or mustard or onion)\n",
       "```"
      ],
      "text/plain": [
       "Correct: \n",
       "\n",
       "One solution looks like:\n",
       "```python\n",
       "return not ketchup and not mustard and not onion\n",
       "```\n",
       "\n",
       "We can also [\"factor out\" the nots](https://en.wikipedia.org/wiki/De_Morgan%27s_laws) to get:\n",
       "\n",
       "```python\n",
       "return not (ketchup or mustard or onion)\n",
       "```"
      ]
     },
     "metadata": {},
     "output_type": "display_data"
    }
   ],
   "source": [
    "def wants_plain_hotdog(ketchup, mustard, onion):\n",
    "    \"\"\"Return whether the customer wants a plain hot dog with no toppings.\n",
    "    \"\"\"\n",
    "    return True and (ketchup == False and mustard == False and onion == False)\n",
    "\n",
    "# Check your answer\n",
    "q5.b.check()"
   ]
  },
  {
   "cell_type": "code",
   "execution_count": 16,
   "id": "cdf857f3",
   "metadata": {
    "execution": {
     "iopub.execute_input": "2022-09-22T12:19:13.229713Z",
     "iopub.status.busy": "2022-09-22T12:19:13.228676Z",
     "iopub.status.idle": "2022-09-22T12:19:13.234810Z",
     "shell.execute_reply": "2022-09-22T12:19:13.233647Z"
    },
    "papermill": {
     "duration": 0.023263,
     "end_time": "2022-09-22T12:19:13.237530",
     "exception": false,
     "start_time": "2022-09-22T12:19:13.214267",
     "status": "completed"
    },
    "tags": []
   },
   "outputs": [],
   "source": [
    "#q5.b.hint()\n",
    "#q5.b.solution()"
   ]
  },
  {
   "cell_type": "markdown",
   "id": "7f3c7014",
   "metadata": {
    "papermill": {
     "duration": 0.013203,
     "end_time": "2022-09-22T12:19:13.267536",
     "exception": false,
     "start_time": "2022-09-22T12:19:13.254333",
     "status": "completed"
    },
    "tags": []
   },
   "source": [
    "# 5c.\n",
    "\n",
    "You know what to do: for the next function, fill in the body to match the English description in the docstring."
   ]
  },
  {
   "cell_type": "code",
   "execution_count": 17,
   "id": "18eb14c2",
   "metadata": {
    "execution": {
     "iopub.execute_input": "2022-09-22T12:19:13.293939Z",
     "iopub.status.busy": "2022-09-22T12:19:13.293041Z",
     "iopub.status.idle": "2022-09-22T12:19:13.304017Z",
     "shell.execute_reply": "2022-09-22T12:19:13.303086Z"
    },
    "papermill": {
     "duration": 0.027192,
     "end_time": "2022-09-22T12:19:13.306411",
     "exception": false,
     "start_time": "2022-09-22T12:19:13.279219",
     "status": "completed"
    },
    "tags": []
   },
   "outputs": [
    {
     "data": {
      "application/javascript": [
       "parent.postMessage({\"jupyterEvent\": \"custom.exercise_interaction\", \"data\": {\"outcomeType\": 1, \"valueTowardsCompletion\": 0.2, \"interactionType\": 1, \"questionType\": 2, \"questionId\": \"5.3_OneSauce\", \"learnToolsVersion\": \"0.3.4\", \"failureMessage\": \"\", \"exceptionClass\": \"\", \"trace\": \"\"}}, \"*\")"
      ],
      "text/plain": [
       "<IPython.core.display.Javascript object>"
      ]
     },
     "metadata": {},
     "output_type": "display_data"
    },
    {
     "data": {
      "text/markdown": [
       "<span style=\"color:#33cc33\">Correct</span>"
      ],
      "text/plain": [
       "Correct"
      ]
     },
     "metadata": {},
     "output_type": "display_data"
    }
   ],
   "source": [
    "def exactly_one_sauce(ketchup, mustard, onion):\n",
    "    \"\"\"Return whether the customer wants either ketchup or mustard, but not both.\n",
    "    (You may be familiar with this operation under the name \"exclusive or\")\n",
    "    \"\"\"\n",
    "    return (ketchup and not mustard) or (mustard and not ketchup)\n",
    "# Check your answer\n",
    "q5.c.check()"
   ]
  },
  {
   "cell_type": "code",
   "execution_count": 18,
   "id": "f322d0fa",
   "metadata": {
    "execution": {
     "iopub.execute_input": "2022-09-22T12:19:13.332922Z",
     "iopub.status.busy": "2022-09-22T12:19:13.332137Z",
     "iopub.status.idle": "2022-09-22T12:19:13.342333Z",
     "shell.execute_reply": "2022-09-22T12:19:13.341014Z"
    },
    "papermill": {
     "duration": 0.02653,
     "end_time": "2022-09-22T12:19:13.345262",
     "exception": false,
     "start_time": "2022-09-22T12:19:13.318732",
     "status": "completed"
    },
    "tags": []
   },
   "outputs": [
    {
     "data": {
      "application/javascript": [
       "parent.postMessage({\"jupyterEvent\": \"custom.exercise_interaction\", \"data\": {\"interactionType\": 2, \"questionType\": 2, \"questionId\": \"5.3_OneSauce\", \"learnToolsVersion\": \"0.3.4\", \"valueTowardsCompletion\": 0.0, \"failureMessage\": \"\", \"exceptionClass\": \"\", \"trace\": \"\", \"outcomeType\": 4}}, \"*\")"
      ],
      "text/plain": [
       "<IPython.core.display.Javascript object>"
      ]
     },
     "metadata": {},
     "output_type": "display_data"
    },
    {
     "data": {
      "text/markdown": [
       "<span style=\"color:#3366cc\">Hint:</span> There are exactly two ways to set ketchup and mustard to make this true. What are they?"
      ],
      "text/plain": [
       "Hint: There are exactly two ways to set ketchup and mustard to make this true. What are they?"
      ]
     },
     "metadata": {},
     "output_type": "display_data"
    }
   ],
   "source": [
    "q5.c.hint()\n",
    "# q5.c.solution()"
   ]
  },
  {
   "cell_type": "markdown",
   "id": "70d4c6e1",
   "metadata": {
    "papermill": {
     "duration": 0.01259,
     "end_time": "2022-09-22T12:19:13.370895",
     "exception": false,
     "start_time": "2022-09-22T12:19:13.358305",
     "status": "completed"
    },
    "tags": []
   },
   "source": [
    "# 6. <span title=\"A bit spicy\" style=\"color: darkgreen \">🌶️</span>\n",
    "\n",
    "We’ve seen that calling `bool()` on an integer returns `False` if it’s equal to 0 and `True` otherwise. What happens if we call `int()` on a bool? Try it out in the notebook cell below.\n",
    "\n",
    "Can you take advantage of this to write a succinct function that corresponds to the English sentence \"does the customer want exactly one topping?\"?"
   ]
  },
  {
   "cell_type": "code",
   "execution_count": 19,
   "id": "cdf55d6f",
   "metadata": {
    "execution": {
     "iopub.execute_input": "2022-09-22T12:19:13.398811Z",
     "iopub.status.busy": "2022-09-22T12:19:13.398346Z",
     "iopub.status.idle": "2022-09-22T12:19:13.408249Z",
     "shell.execute_reply": "2022-09-22T12:19:13.407088Z"
    },
    "papermill": {
     "duration": 0.027252,
     "end_time": "2022-09-22T12:19:13.410950",
     "exception": false,
     "start_time": "2022-09-22T12:19:13.383698",
     "status": "completed"
    },
    "tags": []
   },
   "outputs": [
    {
     "data": {
      "application/javascript": [
       "parent.postMessage({\"jupyterEvent\": \"custom.exercise_interaction\", \"data\": {\"outcomeType\": 1, \"valueTowardsCompletion\": 0.2, \"interactionType\": 1, \"questionType\": 2, \"questionId\": \"6_OneTopping\", \"learnToolsVersion\": \"0.3.4\", \"failureMessage\": \"\", \"exceptionClass\": \"\", \"trace\": \"\"}}, \"*\")"
      ],
      "text/plain": [
       "<IPython.core.display.Javascript object>"
      ]
     },
     "metadata": {},
     "output_type": "display_data"
    },
    {
     "data": {
      "text/markdown": [
       "<span style=\"color:#33cc33\">Correct:</span> \n",
       "\n",
       "This condition would be pretty complicated to express using just `and`, `or` and `not`, but using boolean-to-integer conversion gives us this short solution:\n",
       "```python\n",
       "return (int(ketchup) + int(mustard) + int(onion)) == 1\n",
       "```\n",
       "\n",
       "Fun fact: we don't technically need to call `int` on the arguments. Just by doing addition with booleans, Python implicitly does the integer conversion. So we could also write...\n",
       "\n",
       "```python\n",
       "return (ketchup + mustard + onion) == 1\n",
       "```"
      ],
      "text/plain": [
       "Correct: \n",
       "\n",
       "This condition would be pretty complicated to express using just `and`, `or` and `not`, but using boolean-to-integer conversion gives us this short solution:\n",
       "```python\n",
       "return (int(ketchup) + int(mustard) + int(onion)) == 1\n",
       "```\n",
       "\n",
       "Fun fact: we don't technically need to call `int` on the arguments. Just by doing addition with booleans, Python implicitly does the integer conversion. So we could also write...\n",
       "\n",
       "```python\n",
       "return (ketchup + mustard + onion) == 1\n",
       "```"
      ]
     },
     "metadata": {},
     "output_type": "display_data"
    }
   ],
   "source": [
    "def exactly_one_topping(ketchup, mustard, onion):\n",
    "    \"\"\"Return whether the customer wants exactly one of the three available toppings\n",
    "    on their hot dog.\n",
    "    \"\"\"\n",
    "    return (ketchup + mustard + onion) == 1\n",
    "# Check your answer\n",
    "q6.check()"
   ]
  },
  {
   "cell_type": "code",
   "execution_count": 20,
   "id": "7353c2cc",
   "metadata": {
    "execution": {
     "iopub.execute_input": "2022-09-22T12:19:13.439921Z",
     "iopub.status.busy": "2022-09-22T12:19:13.439012Z",
     "iopub.status.idle": "2022-09-22T12:19:13.444300Z",
     "shell.execute_reply": "2022-09-22T12:19:13.443050Z"
    },
    "papermill": {
     "duration": 0.022537,
     "end_time": "2022-09-22T12:19:13.447061",
     "exception": false,
     "start_time": "2022-09-22T12:19:13.424524",
     "status": "completed"
    },
    "tags": []
   },
   "outputs": [],
   "source": [
    "#q6.hint()\n",
    "#q6.solution()"
   ]
  },
  {
   "cell_type": "markdown",
   "id": "66ef9f93",
   "metadata": {
    "papermill": {
     "duration": 0.013219,
     "end_time": "2022-09-22T12:19:13.472607",
     "exception": false,
     "start_time": "2022-09-22T12:19:13.459388",
     "status": "completed"
    },
    "tags": []
   },
   "source": [
    "# 7. <span title=\"A bit spicy\" style=\"color: darkgreen \">🌶️</span> (Optional)\n",
    "\n",
    "In this problem we'll be working with a simplified version of [blackjack](https://en.wikipedia.org/wiki/Blackjack) (aka twenty-one). In this version there is one player (who you'll control) and a dealer. Play proceeds as follows:\n",
    "\n",
    "- The player is dealt two face-up cards. The dealer is dealt one face-up card.\n",
    "- The player may ask to be dealt another card ('hit') as many times as they wish. If the sum of their cards exceeds 21, they lose the round immediately.\n",
    "- The dealer then deals additional cards to himself until either:\n",
    "    - the sum of the dealer's cards exceeds 21, in which case the player wins the round\n",
    "    - the sum of the dealer's cards is greater than or equal to 17. If the player's total is greater than the dealer's, the player wins. Otherwise, the dealer wins (even in case of a tie).\n",
    "    \n",
    "When calculating the sum of cards, Jack, Queen, and King count for 10. Aces can count as 1 or 11 (when referring to a player's \"total\" above, we mean the largest total that can be made without exceeding 21. So e.g. A+8 = 19, A+8+8 = 17)\n",
    "\n",
    "For this problem, you'll write a function representing the player's decision-making strategy in this game. We've provided a very unintelligent implementation below:"
   ]
  },
  {
   "cell_type": "code",
   "execution_count": 21,
   "id": "c0b80bd0",
   "metadata": {
    "execution": {
     "iopub.execute_input": "2022-09-22T12:19:13.499361Z",
     "iopub.status.busy": "2022-09-22T12:19:13.498800Z",
     "iopub.status.idle": "2022-09-22T12:19:13.506185Z",
     "shell.execute_reply": "2022-09-22T12:19:13.504776Z"
    },
    "papermill": {
     "duration": 0.023648,
     "end_time": "2022-09-22T12:19:13.508786",
     "exception": false,
     "start_time": "2022-09-22T12:19:13.485138",
     "status": "completed"
    },
    "tags": []
   },
   "outputs": [],
   "source": [
    "def should_hit(dealer_total, player_total, player_low_aces, player_high_aces):\n",
    "    \"\"\"Return True if the player should hit (request another card) given the current game\n",
    "    state, or False if the player should stay.\n",
    "    When calculating a hand's total value, we count aces as \"high\" (with value 11) if doing so\n",
    "    doesn't bring the total above 21, otherwise we count them as low (with value 1). \n",
    "    For example, if the player's hand is {A, A, A, 7}, we will count it as 11 + 1 + 1 + 7,\n",
    "    and therefore set player_total=20, player_low_aces=2, player_high_aces=1.\n",
    "    \"\"\"\n",
    "    bool_ = False\n",
    "    if player_total <= 14:\n",
    "        bool_ = True\n",
    "        return bool_\n",
    "    return bool_"
   ]
  },
  {
   "cell_type": "markdown",
   "id": "50b6e970",
   "metadata": {
    "papermill": {
     "duration": 0.013313,
     "end_time": "2022-09-22T12:19:13.535700",
     "exception": false,
     "start_time": "2022-09-22T12:19:13.522387",
     "status": "completed"
    },
    "tags": []
   },
   "source": [
    "This very conservative agent *always* sticks with the hand of two cards that they're dealt.\n",
    "\n",
    "We'll be simulating games between your player agent and our own dealer agent by calling your function.\n",
    "\n",
    "Try running the function below to see an example of a simulated game:"
   ]
  },
  {
   "cell_type": "code",
   "execution_count": 22,
   "id": "603a0bd7",
   "metadata": {
    "execution": {
     "iopub.execute_input": "2022-09-22T12:19:13.566319Z",
     "iopub.status.busy": "2022-09-22T12:19:13.565363Z",
     "iopub.status.idle": "2022-09-22T12:19:13.573126Z",
     "shell.execute_reply": "2022-09-22T12:19:13.571252Z"
    },
    "papermill": {
     "duration": 0.026328,
     "end_time": "2022-09-22T12:19:13.575910",
     "exception": false,
     "start_time": "2022-09-22T12:19:13.549582",
     "status": "completed"
    },
    "tags": []
   },
   "outputs": [
    {
     "name": "stdout",
     "output_type": "stream",
     "text": [
      "Player starts with 7 and 7 (total = 14)\n",
      "Dealer starts with A\n",
      "\n",
      "__Player's turn__\n",
      "Player hits and receives 5. (total = 19)\n",
      "Player stays\n",
      "\n",
      "__Dealer's turn__\n",
      "Dealer hits and receives 4. (total = 15)\n",
      "Dealer hits and receives 6. (total = 21)\n",
      "Dealer stands.\n",
      "Dealer wins. 21 >= 19\n"
     ]
    }
   ],
   "source": [
    "q7.simulate_one_game()"
   ]
  },
  {
   "cell_type": "markdown",
   "id": "44cce3ba",
   "metadata": {
    "papermill": {
     "duration": 0.012399,
     "end_time": "2022-09-22T12:19:13.600886",
     "exception": false,
     "start_time": "2022-09-22T12:19:13.588487",
     "status": "completed"
    },
    "tags": []
   },
   "source": [
    "The real test of your agent's mettle is their average win rate over many games. Try calling the function below to simulate 50000 games of blackjack (it may take a couple seconds):"
   ]
  },
  {
   "cell_type": "code",
   "execution_count": 23,
   "id": "31ce3839",
   "metadata": {
    "execution": {
     "iopub.execute_input": "2022-09-22T12:19:13.628776Z",
     "iopub.status.busy": "2022-09-22T12:19:13.628291Z",
     "iopub.status.idle": "2022-09-22T12:19:15.588505Z",
     "shell.execute_reply": "2022-09-22T12:19:15.587495Z"
    },
    "papermill": {
     "duration": 1.977255,
     "end_time": "2022-09-22T12:19:15.591306",
     "exception": false,
     "start_time": "2022-09-22T12:19:13.614051",
     "status": "completed"
    },
    "tags": []
   },
   "outputs": [
    {
     "name": "stdout",
     "output_type": "stream",
     "text": [
      "Player won 20946 out of 50000 games (win rate = 41.9%)\n"
     ]
    }
   ],
   "source": [
    "q7.simulate(n_games=50000)"
   ]
  },
  {
   "cell_type": "markdown",
   "id": "385b7ad1",
   "metadata": {
    "papermill": {
     "duration": 0.012411,
     "end_time": "2022-09-22T12:19:15.617132",
     "exception": false,
     "start_time": "2022-09-22T12:19:15.604721",
     "status": "completed"
    },
    "tags": []
   },
   "source": [
    "Our dumb agent that completely ignores the game state still manages to win shockingly often!\n",
    "\n",
    "Try adding some more smarts to the `should_hit` function and see how it affects the results."
   ]
  },
  {
   "cell_type": "code",
   "execution_count": 24,
   "id": "6b12ceb5",
   "metadata": {
    "execution": {
     "iopub.execute_input": "2022-09-22T12:19:15.645869Z",
     "iopub.status.busy": "2022-09-22T12:19:15.644546Z",
     "iopub.status.idle": "2022-09-22T12:19:17.549960Z",
     "shell.execute_reply": "2022-09-22T12:19:17.548514Z"
    },
    "papermill": {
     "duration": 1.922574,
     "end_time": "2022-09-22T12:19:17.552491",
     "exception": false,
     "start_time": "2022-09-22T12:19:15.629917",
     "status": "completed"
    },
    "tags": []
   },
   "outputs": [
    {
     "name": "stdout",
     "output_type": "stream",
     "text": [
      "Player won 21213 out of 50000 games (win rate = 42.4%)\n"
     ]
    }
   ],
   "source": [
    "def should_hit(dealer_total, player_total, player_low_aces, player_high_aces):\n",
    "    \"\"\"Return True if the player should hit (request another card) given the current game\n",
    "    state, or False if the player should stay.\n",
    "    When calculating a hand's total value, we count aces as \"high\" (with value 11) if doing so\n",
    "    doesn't bring the total above 21, otherwise we count them as low (with value 1). \n",
    "    For example, if the player's hand is {A, A, A, 7}, we will count it as 11 + 1 + 1 + 7,\n",
    "    and therefore set player_total=20, player_low_aces=2, player_high_aces=1.\n",
    "    \"\"\"\n",
    "    \n",
    "    if player_total <= 11:\n",
    "        return True\n",
    "    if (player_high_aces == 1) and (player_total <= 18):\n",
    "        return True\n",
    "    return False\n",
    "q7.simulate(n_games=50000)"
   ]
  },
  {
   "cell_type": "markdown",
   "id": "9ef7c0eb",
   "metadata": {
    "papermill": {
     "duration": 0.014055,
     "end_time": "2022-09-22T12:19:17.580083",
     "exception": false,
     "start_time": "2022-09-22T12:19:17.566028",
     "status": "completed"
    },
    "tags": []
   },
   "source": [
    "# Keep Going\n",
    "\n",
    "Learn about **[lists and tuples](https://www.kaggle.com/colinmorris/lists)** to handle multiple items of data in a systematic way."
   ]
  },
  {
   "cell_type": "markdown",
   "id": "81800174",
   "metadata": {
    "papermill": {
     "duration": 0.012726,
     "end_time": "2022-09-22T12:19:17.605918",
     "exception": false,
     "start_time": "2022-09-22T12:19:17.593192",
     "status": "completed"
    },
    "tags": []
   },
   "source": [
    "---\n",
    "\n",
    "\n",
    "\n",
    "\n",
    "*Have questions or comments? Visit the [course discussion forum](https://www.kaggle.com/learn/python/discussion) to chat with other learners.*"
   ]
  }
 ],
 "metadata": {
  "kernelspec": {
   "display_name": "Python 3",
   "language": "python",
   "name": "python3"
  },
  "language_info": {
   "codemirror_mode": {
    "name": "ipython",
    "version": 3
   },
   "file_extension": ".py",
   "mimetype": "text/x-python",
   "name": "python",
   "nbconvert_exporter": "python",
   "pygments_lexer": "ipython3",
   "version": "3.7.12"
  },
  "papermill": {
   "default_parameters": {},
   "duration": 15.762581,
   "end_time": "2022-09-22T12:19:18.340440",
   "environment_variables": {},
   "exception": null,
   "input_path": "__notebook__.ipynb",
   "output_path": "__notebook__.ipynb",
   "parameters": {},
   "start_time": "2022-09-22T12:19:02.577859",
   "version": "2.3.4"
  }
 },
 "nbformat": 4,
 "nbformat_minor": 5
}
